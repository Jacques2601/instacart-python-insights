{
 "cells": [
  {
   "cell_type": "code",
   "execution_count": 38,
   "id": "7ce1c05e-f9f6-4f11-ac3b-2ddf6b3ea9de",
   "metadata": {},
   "outputs": [],
   "source": [
    "# New notebook setup\n",
    "import pandas as pd\n",
    "import os"
   ]
  },
  {
   "cell_type": "code",
   "execution_count": 40,
   "id": "503f6383-a754-44c7-9a35-757782990b75",
   "metadata": {},
   "outputs": [],
   "source": [
    "# Set your base project path\n",
    "path = r'C:\\Users\\Jacques\\OneDrive\\Documents\\Data Analytics course\\Data Immersion\\Section 4\\08 April 2025 Instacart Basket Analysis'"
   ]
  },
  {
   "cell_type": "markdown",
   "id": "af875e2e-922c-407e-abb1-5a604240752e",
   "metadata": {},
   "source": [
    "# 1. Import the .pkl file"
   ]
  },
  {
   "cell_type": "code",
   "execution_count": 43,
   "id": "b1f584f4-780e-4829-b35c-a0895e4e7a9e",
   "metadata": {},
   "outputs": [],
   "source": [
    "# Load pickle file\n",
    "df_combined = pd.read_pickle(os.path.join(path, '02 Data', 'Prepared Data', 'orders_products_combined.pkl'))"
   ]
  },
  {
   "cell_type": "markdown",
   "id": "f2fc7039-403f-4941-9d98-d6dfacd849d2",
   "metadata": {},
   "source": [
    "# 2. Check shape of imported dataframe "
   ]
  },
  {
   "cell_type": "code",
   "execution_count": 45,
   "id": "aed5a6ec-ae2a-4a04-abe0-9e38f9007b3e",
   "metadata": {},
   "outputs": [
    {
     "data": {
      "text/plain": [
       "(32434489, 11)"
      ]
     },
     "execution_count": 45,
     "metadata": {},
     "output_type": "execute_result"
    }
   ],
   "source": [
    "# Number of rows and columns in the new dataframe\n",
    "df_combined.shape"
   ]
  },
  {
   "cell_type": "markdown",
   "id": "4c9c8f67-0538-4e05-a62a-cbd46a72c80c",
   "metadata": {},
   "source": [
    "# 3. Merge with cleaned products.csv"
   ]
  },
  {
   "cell_type": "code",
   "execution_count": 47,
   "id": "fb506a7c-27b1-4e2c-b0fc-541049b719bb",
   "metadata": {},
   "outputs": [],
   "source": [
    "# Load cleaned products data\n",
    "df_prods = pd.read_csv(os.path.join(path, '02 Data', 'Prepared Data', 'products_checked.csv'))\n",
    "\n",
    "# Clean and safe merge with custom indicator\n",
    "ords_prods_merge = df_combined.merge(df_prods, on='product_id', indicator='product_merge_flag')"
   ]
  },
  {
   "cell_type": "markdown",
   "id": "1d07ebf1-292c-4baa-a538-c447a2201837",
   "metadata": {},
   "source": [
    "# 4. Check merge success with the flag"
   ]
  },
  {
   "cell_type": "code",
   "execution_count": 49,
   "id": "c5fc0820-cce9-4979-8001-e9b576825fea",
   "metadata": {},
   "outputs": [
    {
     "data": {
      "text/plain": [
       "_merge\n",
       "both          32404859\n",
       "left_only            0\n",
       "right_only           0\n",
       "Name: count, dtype: int64"
      ]
     },
     "execution_count": 49,
     "metadata": {},
     "output_type": "execute_result"
    }
   ],
   "source": [
    "# This shows how many rows matched on product_id.\n",
    "ords_prods_merge['_merge'].value_counts()"
   ]
  },
  {
   "cell_type": "markdown",
   "id": "32ed30be-5a03-4eb5-a096-76cd6cebddfc",
   "metadata": {},
   "source": [
    "# 5. Export ords_prods_merge in a suitable format"
   ]
  },
  {
   "cell_type": "code",
   "execution_count": 51,
   "id": "5da287bb-9e74-4410-bd60-e34ef9d5a1eb",
   "metadata": {},
   "outputs": [],
   "source": [
    "# Exporting the dataframe into pickle format due to efficiency \n",
    "ords_prods_merge.to_pickle(os.path.join(path, '02 Data', 'Prepared Data', 'ords_prods_merge.pkl'))"
   ]
  },
  {
   "cell_type": "code",
   "execution_count": null,
   "id": "1174ceec-905d-40ec-8af7-d22bdfe6bc19",
   "metadata": {},
   "outputs": [],
   "source": []
  }
 ],
 "metadata": {
  "kernelspec": {
   "display_name": "Python 3 (ipykernel)",
   "language": "python",
   "name": "python3"
  },
  "language_info": {
   "codemirror_mode": {
    "name": "ipython",
    "version": 3
   },
   "file_extension": ".py",
   "mimetype": "text/x-python",
   "name": "python",
   "nbconvert_exporter": "python",
   "pygments_lexer": "ipython3",
   "version": "3.12.4"
  }
 },
 "nbformat": 4,
 "nbformat_minor": 5
}
