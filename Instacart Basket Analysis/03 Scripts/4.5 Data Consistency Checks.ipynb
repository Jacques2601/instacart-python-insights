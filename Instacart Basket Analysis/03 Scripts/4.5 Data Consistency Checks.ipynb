{
 "cells": [
  {
   "cell_type": "markdown",
   "id": "68513b8b-b1dd-489e-9de1-159f3914d95f",
   "metadata": {},
   "source": [
    "# 1. Import the Required Libraries"
   ]
  },
  {
   "cell_type": "code",
   "execution_count": 1,
   "id": "43036ea2-477a-40f2-93e3-eb2f8e131109",
   "metadata": {},
   "outputs": [],
   "source": [
    "import pandas as pd\n",
    "import os"
   ]
  },
  {
   "cell_type": "markdown",
   "id": "695031d4-d066-4c4c-98f1-b53c276c3b9f",
   "metadata": {},
   "source": [
    "# 2. Set File Path"
   ]
  },
  {
   "cell_type": "code",
   "execution_count": 3,
   "id": "fc8b34c2-b264-43bc-8344-2cc195f80b02",
   "metadata": {},
   "outputs": [],
   "source": [
    "path = r'C:\\Users\\Jacques\\OneDrive\\Documents\\Data Analytics course\\Data Immersion\\Section 4\\08 April 2025 Instacart Basket Analysis'"
   ]
  },
  {
   "cell_type": "markdown",
   "id": "15b37054-268a-4a35-aad2-64b5fc2e20bb",
   "metadata": {},
   "source": [
    "# 3. Import the Datasets"
   ]
  },
  {
   "cell_type": "code",
   "execution_count": 5,
   "id": "ff16eaaf-442a-4d81-8f5f-f1283998fa4d",
   "metadata": {},
   "outputs": [],
   "source": [
    "# Import products.csv from the \"Original Data\" folder\n",
    "df_prods = pd.read_csv(os.path.join(path, '02 Data', 'Original Data', 'products.csv'), index_col=False)\n",
    "\n",
    "# Import orders_wrangled.csv from the \"Prepared Data\" folder\n",
    "df_ords = pd.read_csv(os.path.join(path, '02 Data', 'Prepared Data', 'orders_wrangled.csv'), index_col=False)"
   ]
  },
  {
   "cell_type": "markdown",
   "id": "06dbf17f-4c0d-4abf-94d2-2b4a0e1dbb01",
   "metadata": {},
   "source": [
    "# 4. Preview the DataFrames"
   ]
  },
  {
   "cell_type": "code",
   "execution_count": 7,
   "id": "e149ccdd-7e80-450c-8022-3f2a58f81fbe",
   "metadata": {},
   "outputs": [
    {
     "name": "stdout",
     "output_type": "stream",
     "text": [
      "   product_id                                       product_name  aisle_id  \\\n",
      "0           1                         Chocolate Sandwich Cookies        61   \n",
      "1           2                                   All-Seasons Salt       104   \n",
      "2           3               Robust Golden Unsweetened Oolong Tea        94   \n",
      "3           4  Smart Ones Classic Favorites Mini Rigatoni Wit...        38   \n",
      "4           5                          Green Chile Anytime Sauce         5   \n",
      "\n",
      "   department_id  prices  \n",
      "0             19     5.8  \n",
      "1             13     9.3  \n",
      "2              7     4.5  \n",
      "3              1    10.5  \n",
      "4             13     4.3  \n",
      "   Unnamed: 0  order_id  user_id  order_number  orders_day_of_week  \\\n",
      "0           0   2539329        1             1                   2   \n",
      "1           1   2398795        1             2                   3   \n",
      "2           2    473747        1             3                   3   \n",
      "3           3   2254736        1             4                   4   \n",
      "4           4    431534        1             5                   4   \n",
      "\n",
      "   order_hour  days_since_prior_order  \n",
      "0           8                     NaN  \n",
      "1           7                    15.0  \n",
      "2          12                    21.0  \n",
      "3           7                    29.0  \n",
      "4          15                    28.0  \n"
     ]
    }
   ],
   "source": [
    "print(df_prods.head())\n",
    "print(df_ords.head())"
   ]
  },
  {
   "cell_type": "code",
   "execution_count": 13,
   "id": "c71f06d9-2ad9-490b-ac5c-26baa046732e",
   "metadata": {},
   "outputs": [
    {
     "data": {
      "text/html": [
       "<div>\n",
       "<style scoped>\n",
       "    .dataframe tbody tr th:only-of-type {\n",
       "        vertical-align: middle;\n",
       "    }\n",
       "\n",
       "    .dataframe tbody tr th {\n",
       "        vertical-align: top;\n",
       "    }\n",
       "\n",
       "    .dataframe thead th {\n",
       "        text-align: right;\n",
       "    }\n",
       "</style>\n",
       "<table border=\"1\" class=\"dataframe\">\n",
       "  <thead>\n",
       "    <tr style=\"text-align: right;\">\n",
       "      <th></th>\n",
       "      <th>Unnamed: 0</th>\n",
       "      <th>order_id</th>\n",
       "      <th>user_id</th>\n",
       "      <th>order_number</th>\n",
       "      <th>orders_day_of_week</th>\n",
       "      <th>order_hour</th>\n",
       "      <th>days_since_prior_order</th>\n",
       "    </tr>\n",
       "  </thead>\n",
       "  <tbody>\n",
       "    <tr>\n",
       "      <th>count</th>\n",
       "      <td>3.421083e+06</td>\n",
       "      <td>3.421083e+06</td>\n",
       "      <td>3.421083e+06</td>\n",
       "      <td>3.421083e+06</td>\n",
       "      <td>3.421083e+06</td>\n",
       "      <td>3.421083e+06</td>\n",
       "      <td>3.214874e+06</td>\n",
       "    </tr>\n",
       "    <tr>\n",
       "      <th>mean</th>\n",
       "      <td>1.710541e+06</td>\n",
       "      <td>1.710542e+06</td>\n",
       "      <td>1.029782e+05</td>\n",
       "      <td>1.715486e+01</td>\n",
       "      <td>2.776219e+00</td>\n",
       "      <td>1.345202e+01</td>\n",
       "      <td>1.111484e+01</td>\n",
       "    </tr>\n",
       "    <tr>\n",
       "      <th>std</th>\n",
       "      <td>9.875817e+05</td>\n",
       "      <td>9.875817e+05</td>\n",
       "      <td>5.953372e+04</td>\n",
       "      <td>1.773316e+01</td>\n",
       "      <td>2.046829e+00</td>\n",
       "      <td>4.226088e+00</td>\n",
       "      <td>9.206737e+00</td>\n",
       "    </tr>\n",
       "    <tr>\n",
       "      <th>min</th>\n",
       "      <td>0.000000e+00</td>\n",
       "      <td>1.000000e+00</td>\n",
       "      <td>1.000000e+00</td>\n",
       "      <td>1.000000e+00</td>\n",
       "      <td>0.000000e+00</td>\n",
       "      <td>0.000000e+00</td>\n",
       "      <td>0.000000e+00</td>\n",
       "    </tr>\n",
       "    <tr>\n",
       "      <th>25%</th>\n",
       "      <td>8.552705e+05</td>\n",
       "      <td>8.552715e+05</td>\n",
       "      <td>5.139400e+04</td>\n",
       "      <td>5.000000e+00</td>\n",
       "      <td>1.000000e+00</td>\n",
       "      <td>1.000000e+01</td>\n",
       "      <td>4.000000e+00</td>\n",
       "    </tr>\n",
       "    <tr>\n",
       "      <th>50%</th>\n",
       "      <td>1.710541e+06</td>\n",
       "      <td>1.710542e+06</td>\n",
       "      <td>1.026890e+05</td>\n",
       "      <td>1.100000e+01</td>\n",
       "      <td>3.000000e+00</td>\n",
       "      <td>1.300000e+01</td>\n",
       "      <td>7.000000e+00</td>\n",
       "    </tr>\n",
       "    <tr>\n",
       "      <th>75%</th>\n",
       "      <td>2.565812e+06</td>\n",
       "      <td>2.565812e+06</td>\n",
       "      <td>1.543850e+05</td>\n",
       "      <td>2.300000e+01</td>\n",
       "      <td>5.000000e+00</td>\n",
       "      <td>1.600000e+01</td>\n",
       "      <td>1.500000e+01</td>\n",
       "    </tr>\n",
       "    <tr>\n",
       "      <th>max</th>\n",
       "      <td>3.421082e+06</td>\n",
       "      <td>3.421083e+06</td>\n",
       "      <td>2.062090e+05</td>\n",
       "      <td>1.000000e+02</td>\n",
       "      <td>6.000000e+00</td>\n",
       "      <td>2.300000e+01</td>\n",
       "      <td>3.000000e+01</td>\n",
       "    </tr>\n",
       "  </tbody>\n",
       "</table>\n",
       "</div>"
      ],
      "text/plain": [
       "         Unnamed: 0      order_id       user_id  order_number  \\\n",
       "count  3.421083e+06  3.421083e+06  3.421083e+06  3.421083e+06   \n",
       "mean   1.710541e+06  1.710542e+06  1.029782e+05  1.715486e+01   \n",
       "std    9.875817e+05  9.875817e+05  5.953372e+04  1.773316e+01   \n",
       "min    0.000000e+00  1.000000e+00  1.000000e+00  1.000000e+00   \n",
       "25%    8.552705e+05  8.552715e+05  5.139400e+04  5.000000e+00   \n",
       "50%    1.710541e+06  1.710542e+06  1.026890e+05  1.100000e+01   \n",
       "75%    2.565812e+06  2.565812e+06  1.543850e+05  2.300000e+01   \n",
       "max    3.421082e+06  3.421083e+06  2.062090e+05  1.000000e+02   \n",
       "\n",
       "       orders_day_of_week    order_hour  days_since_prior_order  \n",
       "count        3.421083e+06  3.421083e+06            3.214874e+06  \n",
       "mean         2.776219e+00  1.345202e+01            1.111484e+01  \n",
       "std          2.046829e+00  4.226088e+00            9.206737e+00  \n",
       "min          0.000000e+00  0.000000e+00            0.000000e+00  \n",
       "25%          1.000000e+00  1.000000e+01            4.000000e+00  \n",
       "50%          3.000000e+00  1.300000e+01            7.000000e+00  \n",
       "75%          5.000000e+00  1.600000e+01            1.500000e+01  \n",
       "max          6.000000e+00  2.300000e+01            3.000000e+01  "
      ]
     },
     "execution_count": 13,
     "metadata": {},
     "output_type": "execute_result"
    }
   ],
   "source": [
    "df_ords.describe()"
   ]
  },
  {
   "cell_type": "markdown",
   "id": "2bfcfb66-f50d-4846-b571-c9d715200452",
   "metadata": {},
   "source": [
    "# 5. Create a dataframe"
   ]
  },
  {
   "cell_type": "code",
   "execution_count": 15,
   "id": "eda86241-f4b1-45f6-8093-8550092a2bd2",
   "metadata": {},
   "outputs": [],
   "source": [
    "# Create a dataframe\n",
    "df_test = pd.DataFrame()"
   ]
  },
  {
   "cell_type": "markdown",
   "id": "c398d8b7-1c52-41be-8a27-44dcff3a9634",
   "metadata": {},
   "source": [
    "# 6. Create a mixed type column"
   ]
  },
  {
   "cell_type": "code",
   "execution_count": 21,
   "id": "e174df2a-9b76-4ac0-8b9d-c79fb98f921a",
   "metadata": {},
   "outputs": [],
   "source": [
    "df_test['mix'] = ['a', 'b', 1, True]"
   ]
  },
  {
   "cell_type": "code",
   "execution_count": 23,
   "id": "df06d4a0-5308-4fcc-b7ba-b4d015c459a0",
   "metadata": {},
   "outputs": [
    {
     "data": {
      "text/html": [
       "<div>\n",
       "<style scoped>\n",
       "    .dataframe tbody tr th:only-of-type {\n",
       "        vertical-align: middle;\n",
       "    }\n",
       "\n",
       "    .dataframe tbody tr th {\n",
       "        vertical-align: top;\n",
       "    }\n",
       "\n",
       "    .dataframe thead th {\n",
       "        text-align: right;\n",
       "    }\n",
       "</style>\n",
       "<table border=\"1\" class=\"dataframe\">\n",
       "  <thead>\n",
       "    <tr style=\"text-align: right;\">\n",
       "      <th></th>\n",
       "      <th>mix</th>\n",
       "    </tr>\n",
       "  </thead>\n",
       "  <tbody>\n",
       "    <tr>\n",
       "      <th>0</th>\n",
       "      <td>a</td>\n",
       "    </tr>\n",
       "    <tr>\n",
       "      <th>1</th>\n",
       "      <td>b</td>\n",
       "    </tr>\n",
       "    <tr>\n",
       "      <th>2</th>\n",
       "      <td>1</td>\n",
       "    </tr>\n",
       "    <tr>\n",
       "      <th>3</th>\n",
       "      <td>True</td>\n",
       "    </tr>\n",
       "  </tbody>\n",
       "</table>\n",
       "</div>"
      ],
      "text/plain": [
       "    mix\n",
       "0     a\n",
       "1     b\n",
       "2     1\n",
       "3  True"
      ]
     },
     "execution_count": 23,
     "metadata": {},
     "output_type": "execute_result"
    }
   ],
   "source": [
    "df_test.head()"
   ]
  },
  {
   "cell_type": "markdown",
   "id": "d83aad4e-4e27-4ef3-af8e-dd78ef1fa26f",
   "metadata": {},
   "source": [
    "# 7. Checking dataframe for mixed-type columns"
   ]
  },
  {
   "cell_type": "code",
   "execution_count": 28,
   "id": "b14a4309-9c99-47f4-b794-2e7f0bff5cdb",
   "metadata": {},
   "outputs": [
    {
     "name": "stdout",
     "output_type": "stream",
     "text": [
      "mix\n"
     ]
    }
   ],
   "source": [
    "for col in df_test.columns:\n",
    "    col_types = df_test[col].map(type)  # Get the type of each value in the column\n",
    "    first_type = type(df_test[col].iloc[0])  # Type of the first item (the expected type)\n",
    "    \n",
    "    weird = col_types != first_type  # Compare each type to the expected type\n",
    "    \n",
    "    if weird.any():  # If any value has a different type, print the column name\n",
    "        print(col)"
   ]
  },
  {
   "cell_type": "code",
   "execution_count": 32,
   "id": "4d7491cf-c8bf-4bc6-aed9-5b97368b58e5",
   "metadata": {},
   "outputs": [],
   "source": [
    "# Converts all the values in the 'mix' column of the df_test DataFrame to strings (text data type).\n",
    "df_test['mix'] = df_test['mix'].astype('str') "
   ]
  },
  {
   "cell_type": "markdown",
   "id": "6034ee38-27e8-4d7e-8f73-e63509fa9005",
   "metadata": {},
   "source": [
    "# 8. Finding missing values"
   ]
  },
  {
   "cell_type": "code",
   "execution_count": 39,
   "id": "779bcb0f-67d8-4b9c-8334-3378f6de0a92",
   "metadata": {},
   "outputs": [
    {
     "data": {
      "text/plain": [
       "product_id        0\n",
       "product_name     16\n",
       "aisle_id          0\n",
       "department_id     0\n",
       "prices            0\n",
       "dtype: int64"
      ]
     },
     "execution_count": 39,
     "metadata": {},
     "output_type": "execute_result"
    }
   ],
   "source": [
    "df_prods.isnull().sum() # This code returns the total number of missing (null) values in each column of the df_prods DataFrame."
   ]
  },
  {
   "cell_type": "code",
   "execution_count": 43,
   "id": "c6ba5b47-4516-4179-b5b1-9075a6564e81",
   "metadata": {},
   "outputs": [],
   "source": [
    "df_nan = df_prods[df_prods['product_name'].isnull() == True] \n",
    "# This code creates a new DataFrame df_nan containing only the rows from df_prods where the 'product_name' column has missing (null) values."
   ]
  },
  {
   "cell_type": "code",
   "execution_count": 45,
   "id": "7e941386-0c7b-421c-b1bd-28d37f07305b",
   "metadata": {},
   "outputs": [
    {
     "data": {
      "text/html": [
       "<div>\n",
       "<style scoped>\n",
       "    .dataframe tbody tr th:only-of-type {\n",
       "        vertical-align: middle;\n",
       "    }\n",
       "\n",
       "    .dataframe tbody tr th {\n",
       "        vertical-align: top;\n",
       "    }\n",
       "\n",
       "    .dataframe thead th {\n",
       "        text-align: right;\n",
       "    }\n",
       "</style>\n",
       "<table border=\"1\" class=\"dataframe\">\n",
       "  <thead>\n",
       "    <tr style=\"text-align: right;\">\n",
       "      <th></th>\n",
       "      <th>product_id</th>\n",
       "      <th>product_name</th>\n",
       "      <th>aisle_id</th>\n",
       "      <th>department_id</th>\n",
       "      <th>prices</th>\n",
       "    </tr>\n",
       "  </thead>\n",
       "  <tbody>\n",
       "    <tr>\n",
       "      <th>33</th>\n",
       "      <td>34</td>\n",
       "      <td>NaN</td>\n",
       "      <td>121</td>\n",
       "      <td>14</td>\n",
       "      <td>12.2</td>\n",
       "    </tr>\n",
       "    <tr>\n",
       "      <th>68</th>\n",
       "      <td>69</td>\n",
       "      <td>NaN</td>\n",
       "      <td>26</td>\n",
       "      <td>7</td>\n",
       "      <td>11.8</td>\n",
       "    </tr>\n",
       "    <tr>\n",
       "      <th>115</th>\n",
       "      <td>116</td>\n",
       "      <td>NaN</td>\n",
       "      <td>93</td>\n",
       "      <td>3</td>\n",
       "      <td>10.8</td>\n",
       "    </tr>\n",
       "    <tr>\n",
       "      <th>261</th>\n",
       "      <td>262</td>\n",
       "      <td>NaN</td>\n",
       "      <td>110</td>\n",
       "      <td>13</td>\n",
       "      <td>12.1</td>\n",
       "    </tr>\n",
       "    <tr>\n",
       "      <th>525</th>\n",
       "      <td>525</td>\n",
       "      <td>NaN</td>\n",
       "      <td>109</td>\n",
       "      <td>11</td>\n",
       "      <td>1.2</td>\n",
       "    </tr>\n",
       "    <tr>\n",
       "      <th>1511</th>\n",
       "      <td>1511</td>\n",
       "      <td>NaN</td>\n",
       "      <td>84</td>\n",
       "      <td>16</td>\n",
       "      <td>14.3</td>\n",
       "    </tr>\n",
       "    <tr>\n",
       "      <th>1780</th>\n",
       "      <td>1780</td>\n",
       "      <td>NaN</td>\n",
       "      <td>126</td>\n",
       "      <td>11</td>\n",
       "      <td>12.3</td>\n",
       "    </tr>\n",
       "    <tr>\n",
       "      <th>2240</th>\n",
       "      <td>2240</td>\n",
       "      <td>NaN</td>\n",
       "      <td>52</td>\n",
       "      <td>1</td>\n",
       "      <td>14.2</td>\n",
       "    </tr>\n",
       "    <tr>\n",
       "      <th>2586</th>\n",
       "      <td>2586</td>\n",
       "      <td>NaN</td>\n",
       "      <td>104</td>\n",
       "      <td>13</td>\n",
       "      <td>12.4</td>\n",
       "    </tr>\n",
       "    <tr>\n",
       "      <th>3159</th>\n",
       "      <td>3159</td>\n",
       "      <td>NaN</td>\n",
       "      <td>126</td>\n",
       "      <td>11</td>\n",
       "      <td>13.1</td>\n",
       "    </tr>\n",
       "    <tr>\n",
       "      <th>3230</th>\n",
       "      <td>3230</td>\n",
       "      <td>NaN</td>\n",
       "      <td>120</td>\n",
       "      <td>16</td>\n",
       "      <td>14.4</td>\n",
       "    </tr>\n",
       "    <tr>\n",
       "      <th>3736</th>\n",
       "      <td>3736</td>\n",
       "      <td>NaN</td>\n",
       "      <td>41</td>\n",
       "      <td>8</td>\n",
       "      <td>14.8</td>\n",
       "    </tr>\n",
       "    <tr>\n",
       "      <th>4283</th>\n",
       "      <td>4283</td>\n",
       "      <td>NaN</td>\n",
       "      <td>77</td>\n",
       "      <td>7</td>\n",
       "      <td>14.4</td>\n",
       "    </tr>\n",
       "    <tr>\n",
       "      <th>4790</th>\n",
       "      <td>4790</td>\n",
       "      <td>NaN</td>\n",
       "      <td>91</td>\n",
       "      <td>16</td>\n",
       "      <td>14.5</td>\n",
       "    </tr>\n",
       "    <tr>\n",
       "      <th>38187</th>\n",
       "      <td>38183</td>\n",
       "      <td>NaN</td>\n",
       "      <td>39</td>\n",
       "      <td>12</td>\n",
       "      <td>20.9</td>\n",
       "    </tr>\n",
       "    <tr>\n",
       "      <th>40444</th>\n",
       "      <td>40440</td>\n",
       "      <td>NaN</td>\n",
       "      <td>120</td>\n",
       "      <td>16</td>\n",
       "      <td>14.8</td>\n",
       "    </tr>\n",
       "  </tbody>\n",
       "</table>\n",
       "</div>"
      ],
      "text/plain": [
       "       product_id product_name  aisle_id  department_id  prices\n",
       "33             34          NaN       121             14    12.2\n",
       "68             69          NaN        26              7    11.8\n",
       "115           116          NaN        93              3    10.8\n",
       "261           262          NaN       110             13    12.1\n",
       "525           525          NaN       109             11     1.2\n",
       "1511         1511          NaN        84             16    14.3\n",
       "1780         1780          NaN       126             11    12.3\n",
       "2240         2240          NaN        52              1    14.2\n",
       "2586         2586          NaN       104             13    12.4\n",
       "3159         3159          NaN       126             11    13.1\n",
       "3230         3230          NaN       120             16    14.4\n",
       "3736         3736          NaN        41              8    14.8\n",
       "4283         4283          NaN        77              7    14.4\n",
       "4790         4790          NaN        91             16    14.5\n",
       "38187       38183          NaN        39             12    20.9\n",
       "40444       40440          NaN       120             16    14.8"
      ]
     },
     "execution_count": 45,
     "metadata": {},
     "output_type": "execute_result"
    }
   ],
   "source": [
    "df_nan"
   ]
  },
  {
   "cell_type": "code",
   "execution_count": 47,
   "id": "c4217f34-d096-4607-9430-bb4cc93d3bc7",
   "metadata": {},
   "outputs": [
    {
     "data": {
      "text/plain": [
       "(49693, 5)"
      ]
     },
     "execution_count": 47,
     "metadata": {},
     "output_type": "execute_result"
    }
   ],
   "source": [
    "df_prods.shape\n",
    "# Return the number of rows and columns in the data frame"
   ]
  },
  {
   "cell_type": "code",
   "execution_count": 49,
   "id": "9ee23250-bf1b-481c-ac4e-759aa8a62e1e",
   "metadata": {},
   "outputs": [],
   "source": [
    "df_prods_clean = df_prods[df_prods['product_name'].isnull() == False]\n",
    "#  Creates a new DataFrame df_prods_clean that includes only the rows from df_prods where the 'product_name' column is not null"
   ]
  },
  {
   "cell_type": "code",
   "execution_count": 51,
   "id": "c1dacaeb-a5fe-4a1b-a5eb-235cc2a7eec0",
   "metadata": {},
   "outputs": [
    {
     "data": {
      "text/plain": [
       "(49677, 5)"
      ]
     },
     "execution_count": 51,
     "metadata": {},
     "output_type": "execute_result"
    }
   ],
   "source": [
    "df_prods_clean.shape"
   ]
  },
  {
   "cell_type": "markdown",
   "id": "e3a79e37-d60a-4afd-bb7d-6848e8f9afdc",
   "metadata": {},
   "source": [
    "# 9. Finding duplicate values"
   ]
  },
  {
   "cell_type": "code",
   "execution_count": 57,
   "id": "5486eff6-a6a2-46a2-889f-4a2f69b276f1",
   "metadata": {},
   "outputs": [],
   "source": [
    "df_dups = df_prods_clean[df_prods_clean.duplicated()]\n",
    "# Looks for duplicates in the dataframe"
   ]
  },
  {
   "cell_type": "code",
   "execution_count": 59,
   "id": "5249e690-20fc-48d8-9762-aec42f1159d0",
   "metadata": {},
   "outputs": [
    {
     "data": {
      "text/html": [
       "<div>\n",
       "<style scoped>\n",
       "    .dataframe tbody tr th:only-of-type {\n",
       "        vertical-align: middle;\n",
       "    }\n",
       "\n",
       "    .dataframe tbody tr th {\n",
       "        vertical-align: top;\n",
       "    }\n",
       "\n",
       "    .dataframe thead th {\n",
       "        text-align: right;\n",
       "    }\n",
       "</style>\n",
       "<table border=\"1\" class=\"dataframe\">\n",
       "  <thead>\n",
       "    <tr style=\"text-align: right;\">\n",
       "      <th></th>\n",
       "      <th>product_id</th>\n",
       "      <th>product_name</th>\n",
       "      <th>aisle_id</th>\n",
       "      <th>department_id</th>\n",
       "      <th>prices</th>\n",
       "    </tr>\n",
       "  </thead>\n",
       "  <tbody>\n",
       "    <tr>\n",
       "      <th>462</th>\n",
       "      <td>462</td>\n",
       "      <td>Fiber 4g Gummy Dietary Supplement</td>\n",
       "      <td>70</td>\n",
       "      <td>11</td>\n",
       "      <td>4.8</td>\n",
       "    </tr>\n",
       "    <tr>\n",
       "      <th>18459</th>\n",
       "      <td>18458</td>\n",
       "      <td>Ranger IPA</td>\n",
       "      <td>27</td>\n",
       "      <td>5</td>\n",
       "      <td>9.2</td>\n",
       "    </tr>\n",
       "    <tr>\n",
       "      <th>26810</th>\n",
       "      <td>26808</td>\n",
       "      <td>Black House Coffee Roasty Stout Beer</td>\n",
       "      <td>27</td>\n",
       "      <td>5</td>\n",
       "      <td>13.4</td>\n",
       "    </tr>\n",
       "    <tr>\n",
       "      <th>35309</th>\n",
       "      <td>35306</td>\n",
       "      <td>Gluten Free Organic Peanut Butter &amp; Chocolate ...</td>\n",
       "      <td>121</td>\n",
       "      <td>14</td>\n",
       "      <td>6.8</td>\n",
       "    </tr>\n",
       "    <tr>\n",
       "      <th>35495</th>\n",
       "      <td>35491</td>\n",
       "      <td>Adore Forever Body Wash</td>\n",
       "      <td>127</td>\n",
       "      <td>11</td>\n",
       "      <td>9.9</td>\n",
       "    </tr>\n",
       "  </tbody>\n",
       "</table>\n",
       "</div>"
      ],
      "text/plain": [
       "       product_id                                       product_name  \\\n",
       "462           462                  Fiber 4g Gummy Dietary Supplement   \n",
       "18459       18458                                         Ranger IPA   \n",
       "26810       26808               Black House Coffee Roasty Stout Beer   \n",
       "35309       35306  Gluten Free Organic Peanut Butter & Chocolate ...   \n",
       "35495       35491                            Adore Forever Body Wash   \n",
       "\n",
       "       aisle_id  department_id  prices  \n",
       "462          70             11     4.8  \n",
       "18459        27              5     9.2  \n",
       "26810        27              5    13.4  \n",
       "35309       121             14     6.8  \n",
       "35495       127             11     9.9  "
      ]
     },
     "execution_count": 59,
     "metadata": {},
     "output_type": "execute_result"
    }
   ],
   "source": [
    "df_dups"
   ]
  },
  {
   "cell_type": "code",
   "execution_count": 67,
   "id": "ff5e031f-14e0-408b-a386-f38ae50d914f",
   "metadata": {},
   "outputs": [
    {
     "data": {
      "text/plain": [
       "(49677, 5)"
      ]
     },
     "execution_count": 67,
     "metadata": {},
     "output_type": "execute_result"
    }
   ],
   "source": [
    "df_prods_clean.shape\n",
    "# Gives the number of rows and columns in the df_prods_clean dataframe"
   ]
  },
  {
   "cell_type": "code",
   "execution_count": 69,
   "id": "d66fb08e-95c2-4414-825c-b91a545b7eb3",
   "metadata": {},
   "outputs": [],
   "source": [
    "df_prods_clean_no_dups = df_prods_clean.drop_duplicates()\n",
    "# This code creates a new DataFrame df_prods_clean_no_dups by removing duplicate rows from the df_prods_clean DataFrame"
   ]
  },
  {
   "cell_type": "code",
   "execution_count": 71,
   "id": "9cfae5c0-1c89-477c-b962-eb4796909dcf",
   "metadata": {},
   "outputs": [
    {
     "data": {
      "text/plain": [
       "(49672, 5)"
      ]
     },
     "execution_count": 71,
     "metadata": {},
     "output_type": "execute_result"
    }
   ],
   "source": [
    "df_prods_clean_no_dups.shape"
   ]
  },
  {
   "cell_type": "code",
   "execution_count": 75,
   "id": "36ea809e-1325-4b8d-87dd-ee91bf2006c2",
   "metadata": {},
   "outputs": [],
   "source": [
    "# Exporting the cleaned DataFrame to a CSV file\n",
    "df_prods_clean_no_dups.to_csv(r'C:\\Users\\Jacques\\OneDrive\\Documents\\Data Analytics course\\Data Immersion\\Section 4\\08 April 2025 Instacart Basket Analysis\\02 Data\\Prepared Data\\products_checked.csv', index=False)"
   ]
  },
  {
   "cell_type": "markdown",
   "id": "6b293966-ae08-4797-9c94-c08a22cd8964",
   "metadata": {},
   "source": [
    "# ______________________________________________________________________________________________________________________________________________________"
   ]
  },
  {
   "cell_type": "markdown",
   "id": "6cba56fa-1668-4f98-a67e-8e2e7ff70ee2",
   "metadata": {},
   "source": [
    "# Exercise 4.5"
   ]
  },
  {
   "cell_type": "code",
   "execution_count": 16,
   "id": "017a929e-1021-41c7-8cfc-590db1630672",
   "metadata": {},
   "outputs": [],
   "source": [
    "import pandas as pd\n",
    "import os\n",
    "\n",
    "# Set your path to the project folder\n",
    "path = r'C:\\Users\\Jacques\\Documents\\08 April 2025 Instacart Basket Analysis'\n",
    "\n",
    "# Import products.csv from Original Data\n",
    "df_prods = pd.read_csv(os.path.join(path, '02 Data', 'Original Data', 'products.csv'), index_col=False)\n",
    "df_ords = pd.read_csv(os.path.join(path, '02 Data', 'Original Data', 'orders.csv'), index_col=False)"
   ]
  },
  {
   "cell_type": "markdown",
   "id": "8f222ac6-dac8-4b7e-b3c8-44e472da2d1d",
   "metadata": {},
   "source": [
    "# 1. Perform consistency checks on df_prods"
   ]
  },
  {
   "cell_type": "code",
   "execution_count": 19,
   "id": "6f1537db-d60a-4934-bfe3-e5ffdf886071",
   "metadata": {},
   "outputs": [
    {
     "data": {
      "text/plain": [
       "(49672, 5)"
      ]
     },
     "execution_count": 19,
     "metadata": {},
     "output_type": "execute_result"
    }
   ],
   "source": [
    "# CHECK: Shape\n",
    "df_prods.shape\n",
    "\n",
    "# CHECK: Missing values\n",
    "df_prods.isnull().sum()\n",
    "\n",
    "# CHECK: Duplicates\n",
    "df_prods[df_prods.duplicated()]\n",
    "\n",
    "# CLEAN: Remove missing values in 'product_name'\n",
    "df_prods_clean = df_prods[df_prods['product_name'].isnull() == False]\n",
    "\n",
    "# CLEAN: Remove duplicates\n",
    "df_prods_clean_no_dups = df_prods_clean.drop_duplicates()\n",
    "\n",
    "# FINAL SHAPE\n",
    "df_prods_clean_no_dups.shape"
   ]
  },
  {
   "cell_type": "markdown",
   "id": "a0fb1b54-b48d-4808-b21d-e4d76295c603",
   "metadata": {},
   "source": [
    "# 2. Run df.describe() on df_ords"
   ]
  },
  {
   "cell_type": "code",
   "execution_count": 24,
   "id": "6292b92a-62ef-4b18-b9ad-dcec8a7d0d60",
   "metadata": {},
   "outputs": [
    {
     "data": {
      "text/html": [
       "<div>\n",
       "<style scoped>\n",
       "    .dataframe tbody tr th:only-of-type {\n",
       "        vertical-align: middle;\n",
       "    }\n",
       "\n",
       "    .dataframe tbody tr th {\n",
       "        vertical-align: top;\n",
       "    }\n",
       "\n",
       "    .dataframe thead th {\n",
       "        text-align: right;\n",
       "    }\n",
       "</style>\n",
       "<table border=\"1\" class=\"dataframe\">\n",
       "  <thead>\n",
       "    <tr style=\"text-align: right;\">\n",
       "      <th></th>\n",
       "      <th>order_id</th>\n",
       "      <th>user_id</th>\n",
       "      <th>order_number</th>\n",
       "      <th>order_dow</th>\n",
       "      <th>order_hour_of_day</th>\n",
       "      <th>days_since_prior_order</th>\n",
       "    </tr>\n",
       "  </thead>\n",
       "  <tbody>\n",
       "    <tr>\n",
       "      <th>count</th>\n",
       "      <td>3.421083e+06</td>\n",
       "      <td>3.421083e+06</td>\n",
       "      <td>3.421083e+06</td>\n",
       "      <td>3.421083e+06</td>\n",
       "      <td>3.421083e+06</td>\n",
       "      <td>3.214874e+06</td>\n",
       "    </tr>\n",
       "    <tr>\n",
       "      <th>mean</th>\n",
       "      <td>1.710542e+06</td>\n",
       "      <td>1.029782e+05</td>\n",
       "      <td>1.715486e+01</td>\n",
       "      <td>2.776219e+00</td>\n",
       "      <td>1.345202e+01</td>\n",
       "      <td>1.111484e+01</td>\n",
       "    </tr>\n",
       "    <tr>\n",
       "      <th>std</th>\n",
       "      <td>9.875817e+05</td>\n",
       "      <td>5.953372e+04</td>\n",
       "      <td>1.773316e+01</td>\n",
       "      <td>2.046829e+00</td>\n",
       "      <td>4.226088e+00</td>\n",
       "      <td>9.206737e+00</td>\n",
       "    </tr>\n",
       "    <tr>\n",
       "      <th>min</th>\n",
       "      <td>1.000000e+00</td>\n",
       "      <td>1.000000e+00</td>\n",
       "      <td>1.000000e+00</td>\n",
       "      <td>0.000000e+00</td>\n",
       "      <td>0.000000e+00</td>\n",
       "      <td>0.000000e+00</td>\n",
       "    </tr>\n",
       "    <tr>\n",
       "      <th>25%</th>\n",
       "      <td>8.552715e+05</td>\n",
       "      <td>5.139400e+04</td>\n",
       "      <td>5.000000e+00</td>\n",
       "      <td>1.000000e+00</td>\n",
       "      <td>1.000000e+01</td>\n",
       "      <td>4.000000e+00</td>\n",
       "    </tr>\n",
       "    <tr>\n",
       "      <th>50%</th>\n",
       "      <td>1.710542e+06</td>\n",
       "      <td>1.026890e+05</td>\n",
       "      <td>1.100000e+01</td>\n",
       "      <td>3.000000e+00</td>\n",
       "      <td>1.300000e+01</td>\n",
       "      <td>7.000000e+00</td>\n",
       "    </tr>\n",
       "    <tr>\n",
       "      <th>75%</th>\n",
       "      <td>2.565812e+06</td>\n",
       "      <td>1.543850e+05</td>\n",
       "      <td>2.300000e+01</td>\n",
       "      <td>5.000000e+00</td>\n",
       "      <td>1.600000e+01</td>\n",
       "      <td>1.500000e+01</td>\n",
       "    </tr>\n",
       "    <tr>\n",
       "      <th>max</th>\n",
       "      <td>3.421083e+06</td>\n",
       "      <td>2.062090e+05</td>\n",
       "      <td>1.000000e+02</td>\n",
       "      <td>6.000000e+00</td>\n",
       "      <td>2.300000e+01</td>\n",
       "      <td>3.000000e+01</td>\n",
       "    </tr>\n",
       "  </tbody>\n",
       "</table>\n",
       "</div>"
      ],
      "text/plain": [
       "           order_id       user_id  order_number     order_dow  \\\n",
       "count  3.421083e+06  3.421083e+06  3.421083e+06  3.421083e+06   \n",
       "mean   1.710542e+06  1.029782e+05  1.715486e+01  2.776219e+00   \n",
       "std    9.875817e+05  5.953372e+04  1.773316e+01  2.046829e+00   \n",
       "min    1.000000e+00  1.000000e+00  1.000000e+00  0.000000e+00   \n",
       "25%    8.552715e+05  5.139400e+04  5.000000e+00  1.000000e+00   \n",
       "50%    1.710542e+06  1.026890e+05  1.100000e+01  3.000000e+00   \n",
       "75%    2.565812e+06  1.543850e+05  2.300000e+01  5.000000e+00   \n",
       "max    3.421083e+06  2.062090e+05  1.000000e+02  6.000000e+00   \n",
       "\n",
       "       order_hour_of_day  days_since_prior_order  \n",
       "count       3.421083e+06            3.214874e+06  \n",
       "mean        1.345202e+01            1.111484e+01  \n",
       "std         4.226088e+00            9.206737e+00  \n",
       "min         0.000000e+00            0.000000e+00  \n",
       "25%         1.000000e+01            4.000000e+00  \n",
       "50%         1.300000e+01            7.000000e+00  \n",
       "75%         1.600000e+01            1.500000e+01  \n",
       "max         2.300000e+01            3.000000e+01  "
      ]
     },
     "execution_count": 24,
     "metadata": {},
     "output_type": "execute_result"
    }
   ],
   "source": [
    "df_ords.describe()\n",
    "# The code df_ords.describe() generates summary statistics (like count, mean, min, max, and percentiles) for all numeric columns in the df_ords DataFrame."
   ]
  },
  {
   "cell_type": "markdown",
   "id": "61d12e00-9e35-4227-9c23-6996074f647b",
   "metadata": {},
   "source": [
    "# 3. Check for mixed-type data in df_ords"
   ]
  },
  {
   "cell_type": "code",
   "execution_count": 27,
   "id": "5bee4978-35e3-4b2f-abaa-db08b6abd3a0",
   "metadata": {},
   "outputs": [
    {
     "name": "stdout",
     "output_type": "stream",
     "text": [
      "Mixed types in column: order_id\n",
      "Mixed types in column: user_id\n",
      "Mixed types in column: order_number\n",
      "Mixed types in column: order_dow\n",
      "Mixed types in column: order_hour_of_day\n",
      "Mixed types in column: days_since_prior_order\n"
     ]
    }
   ],
   "source": [
    "for col in df_ords.columns:\n",
    "    col_types = df_ords[col].map(type)\n",
    "    first_type = type(df_ords[col].iloc[0])\n",
    "    if (col_types != first_type).any():\n",
    "        print(f\"Mixed types in column: {col}\")\n",
    "# Checks for mixed-type column in df_ords"
   ]
  },
  {
   "cell_type": "markdown",
   "id": "5a14aed9-dfec-4ce1-8bbe-42aed884d6ed",
   "metadata": {},
   "source": [
    "# 4. Fix mixed-type data"
   ]
  },
  {
   "cell_type": "code",
   "execution_count": 30,
   "id": "2912ad60-96d2-44f7-a2f0-25531e9ff94e",
   "metadata": {},
   "outputs": [],
   "source": [
    "df_ords['user_id'] = df_ords['user_id'].astype('str')\n",
    "# Converted user_id to string format to resolve mixed-type values. "
   ]
  },
  {
   "cell_type": "markdown",
   "id": "800d83c1-e34d-40ef-8e28-0e6e72c37395",
   "metadata": {},
   "source": [
    "# 5. Check for missing values"
   ]
  },
  {
   "cell_type": "code",
   "execution_count": 33,
   "id": "4c19cd9f-4a4c-42f1-afe3-8276e0eca4f7",
   "metadata": {},
   "outputs": [
    {
     "data": {
      "text/plain": [
       "order_id                       0\n",
       "user_id                        0\n",
       "eval_set                       0\n",
       "order_number                   0\n",
       "order_dow                      0\n",
       "order_hour_of_day              0\n",
       "days_since_prior_order    206209\n",
       "dtype: int64"
      ]
     },
     "execution_count": 33,
     "metadata": {},
     "output_type": "execute_result"
    }
   ],
   "source": [
    "df_ords.isnull().sum()\n",
    "# Checks for missing values in columns in df_ords"
   ]
  },
  {
   "cell_type": "markdown",
   "id": "2500c862-ab9b-4d83-8319-9aade78d8a09",
   "metadata": {},
   "source": [
    "# 6. Address missing values"
   ]
  },
  {
   "cell_type": "code",
   "execution_count": 38,
   "id": "cff5674c-b564-455e-88d7-db8c7bdfabcc",
   "metadata": {},
   "outputs": [],
   "source": [
    "df_ords['days_since_prior_order'] = df_ords['days_since_prior_order'].fillna(0)\n",
    "# Fills missing values in days_since_prior_first_order with 0"
   ]
  },
  {
   "cell_type": "markdown",
   "id": "3d8ad01b-79ff-4e3a-9d84-d66837bfdbd6",
   "metadata": {},
   "source": [
    "# Chose to fill missing values in days_since_prior_order with 0, assuming these represent a user's first order. \n",
    "# This preserves the data without losing rows."
   ]
  },
  {
   "cell_type": "markdown",
   "id": "21f07da9-950b-406c-bd72-f167a3fbea22",
   "metadata": {},
   "source": [
    "# 7. Check for duplicate values"
   ]
  },
  {
   "cell_type": "code",
   "execution_count": 43,
   "id": "4ff05ad6-1bd5-4865-91b9-b16b06127443",
   "metadata": {},
   "outputs": [
    {
     "data": {
      "text/html": [
       "<div>\n",
       "<style scoped>\n",
       "    .dataframe tbody tr th:only-of-type {\n",
       "        vertical-align: middle;\n",
       "    }\n",
       "\n",
       "    .dataframe tbody tr th {\n",
       "        vertical-align: top;\n",
       "    }\n",
       "\n",
       "    .dataframe thead th {\n",
       "        text-align: right;\n",
       "    }\n",
       "</style>\n",
       "<table border=\"1\" class=\"dataframe\">\n",
       "  <thead>\n",
       "    <tr style=\"text-align: right;\">\n",
       "      <th></th>\n",
       "      <th>order_id</th>\n",
       "      <th>user_id</th>\n",
       "      <th>eval_set</th>\n",
       "      <th>order_number</th>\n",
       "      <th>order_dow</th>\n",
       "      <th>order_hour_of_day</th>\n",
       "      <th>days_since_prior_order</th>\n",
       "    </tr>\n",
       "  </thead>\n",
       "  <tbody>\n",
       "  </tbody>\n",
       "</table>\n",
       "</div>"
      ],
      "text/plain": [
       "Empty DataFrame\n",
       "Columns: [order_id, user_id, eval_set, order_number, order_dow, order_hour_of_day, days_since_prior_order]\n",
       "Index: []"
      ]
     },
     "execution_count": 43,
     "metadata": {},
     "output_type": "execute_result"
    }
   ],
   "source": [
    "df_ords[df_ords.duplicated()]\n",
    "# This checks for duplicated values in the df_ords database"
   ]
  },
  {
   "cell_type": "markdown",
   "id": "9c6542e5-560b-4821-86a8-9f6dd5956d7e",
   "metadata": {},
   "source": [
    "# Checked for fully duplicated rows in the df_ords DataFrame using df.duplicated(). \n",
    "# The result showed no duplicates, meaning every row is unique. No action was needed for this step."
   ]
  },
  {
   "cell_type": "markdown",
   "id": "38794e4c-a7ca-478a-ae07-2773fcf6e8e5",
   "metadata": {},
   "source": [
    "# 8. Remove duplicates"
   ]
  },
  {
   "cell_type": "code",
   "execution_count": 47,
   "id": "0d1382f7-1206-41c2-8b3d-fa29b0c437a8",
   "metadata": {},
   "outputs": [],
   "source": [
    "df_ords_clean = df_ords.drop_duplicates()\n",
    "# Removes any duplicates in the df_ords database "
   ]
  },
  {
   "cell_type": "markdown",
   "id": "ff5415aa-1a07-46c7-8483-64024da15cfe",
   "metadata": {},
   "source": [
    "# Removed duplicates using drop_duplicates() to ensure that each order is represented only once in the dataset. \n",
    "# This helps avoid double-counting in future analysis."
   ]
  },
  {
   "cell_type": "markdown",
   "id": "945e4e03-61dc-4d8d-95fa-5e7b7cbca4b5",
   "metadata": {},
   "source": [
    "# 9. Export final cleaned files"
   ]
  },
  {
   "cell_type": "code",
   "execution_count": 51,
   "id": "d96fc955-abb0-4348-a56e-02a9653cde1c",
   "metadata": {},
   "outputs": [],
   "source": [
    "# Export cleaned products data\n",
    "df_prods_clean_no_dups.to_csv(r'C:\\Users\\Jacques\\Documents\\08 April 2025 Instacart Basket Analysis\\02 Data\\Prepared Data\\products_checked.csv', index=False)\n",
    "\n",
    "# Export cleaned orders data\n",
    "df_ords_clean.to_csv(r'C:\\Users\\Jacques\\Documents\\08 April 2025 Instacart Basket Analysis\\02 Data\\Prepared Data\\orders_checked.csv', index=False)"
   ]
  },
  {
   "cell_type": "code",
   "execution_count": null,
   "id": "cdd0e6d6-621f-4784-9d60-13c1b757e29c",
   "metadata": {},
   "outputs": [],
   "source": []
  }
 ],
 "metadata": {
  "kernelspec": {
   "display_name": "Python 3 (ipykernel)",
   "language": "python",
   "name": "python3"
  },
  "language_info": {
   "codemirror_mode": {
    "name": "ipython",
    "version": 3
   },
   "file_extension": ".py",
   "mimetype": "text/x-python",
   "name": "python",
   "nbconvert_exporter": "python",
   "pygments_lexer": "ipython3",
   "version": "3.12.4"
  }
 },
 "nbformat": 4,
 "nbformat_minor": 5
}
