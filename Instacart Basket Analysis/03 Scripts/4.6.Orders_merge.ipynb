{
 "cells": [
  {
   "cell_type": "markdown",
   "id": "5dd6f3ca-74e6-43f7-a5ae-2022aa029a75",
   "metadata": {},
   "source": [
    "# 1. Merge df_ords with df_ords_prior"
   ]
  },
  {
   "cell_type": "code",
   "execution_count": 6,
   "id": "5707617a-5418-435a-9238-b5afbc0345e0",
   "metadata": {},
   "outputs": [],
   "source": [
    "import pandas as pd\n",
    "import os"
   ]
  },
  {
   "cell_type": "code",
   "execution_count": 8,
   "id": "bba014e2-5c02-4dc1-ba6c-1033b220db99",
   "metadata": {},
   "outputs": [],
   "source": [
    "# Set your base project path\n",
    "path = r'C:\\Users\\Jacques\\OneDrive\\Documents\\Data Analytics course\\Data Immersion\\Section 4\\08 April 2025 Instacart Basket Analysis'"
   ]
  },
  {
   "cell_type": "code",
   "execution_count": 12,
   "id": "d42a4956-5a05-498c-b551-3022eece1096",
   "metadata": {},
   "outputs": [],
   "source": [
    "# Import the 'orders.csv' dataset\n",
    "df_ords = pd.read_csv(os.path.join(path, '02 Data', 'Original Data', 'orders.csv'))\n",
    "\n",
    "# Import the 'orders_products_prior.csv' dataset\n",
    "df_ords_prior = pd.read_csv(os.path.join(path, '02 Data', 'Prepared Data', 'orders_products_prior.csv'))"
   ]
  },
  {
   "cell_type": "code",
   "execution_count": 14,
   "id": "96ed813f-726d-4ddc-a646-d004a69ead5d",
   "metadata": {},
   "outputs": [],
   "source": [
    "# Merge on 'order_id' and add a merge flag\n",
    "df_merged_large = df_ords.merge(df_ords_prior, on='order_id', indicator=True)"
   ]
  },
  {
   "cell_type": "markdown",
   "id": "5fccf7d5-747c-4cce-abe8-fbe34db4c302",
   "metadata": {},
   "source": [
    "# 2. Export merged data as Pickle"
   ]
  },
  {
   "cell_type": "code",
   "execution_count": 23,
   "id": "2f841b92-ab3a-44ad-8c0a-14823eed4b17",
   "metadata": {},
   "outputs": [],
   "source": [
    "# Exports merged data as Pickle\n",
    "df_merged_large.to_pickle(os.path.join(path, '02 Data', 'Prepared Data', 'orders_products_combined.pkl'))"
   ]
  },
  {
   "cell_type": "code",
   "execution_count": null,
   "id": "2ee3d96a-b4c6-45f1-b890-cf0f7156e1ea",
   "metadata": {},
   "outputs": [],
   "source": []
  }
 ],
 "metadata": {
  "kernelspec": {
   "display_name": "Python 3 (ipykernel)",
   "language": "python",
   "name": "python3"
  },
  "language_info": {
   "codemirror_mode": {
    "name": "ipython",
    "version": 3
   },
   "file_extension": ".py",
   "mimetype": "text/x-python",
   "name": "python",
   "nbconvert_exporter": "python",
   "pygments_lexer": "ipython3",
   "version": "3.12.4"
  }
 },
 "nbformat": 4,
 "nbformat_minor": 5
}
