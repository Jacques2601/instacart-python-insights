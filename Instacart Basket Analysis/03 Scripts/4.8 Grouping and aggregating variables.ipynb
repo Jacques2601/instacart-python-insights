{
 "cells": [
  {
   "cell_type": "markdown",
   "id": "48791032-d487-4fb3-90e2-353f524cf3b5",
   "metadata": {},
   "source": [
    "# 1. Create a New Notebook & Import Everything"
   ]
  },
  {
   "cell_type": "code",
   "execution_count": 2,
   "id": "6133b88a-9831-4bd0-b4b1-8888e47398f5",
   "metadata": {},
   "outputs": [],
   "source": [
    "# Import libraries\n",
    "import pandas as pd\n",
    "import numpy as np\n",
    "import os\n",
    "\n",
    "# Define project path\n",
    "path = r'C:\\Users\\Jacques\\OneDrive\\Documents\\Data Analytics course\\Data Immersion\\Section 4\\08 April 2025 Instacart Basket Analysis'\n",
    "\n",
    "# Import the full merged dataset with previous columns included\n",
    "ords_prods_merge = pd.read_pickle(os.path.join(path, '02 Data', 'Prepared Data', 'ords_prods_derived.pkl'))"
   ]
  },
  {
   "cell_type": "code",
   "execution_count": 4,
   "id": "bdef29ce-154f-4f73-a81b-28cae8f67f2b",
   "metadata": {},
   "outputs": [
    {
     "data": {
      "text/html": [
       "<div>\n",
       "<style scoped>\n",
       "    .dataframe tbody tr th:only-of-type {\n",
       "        vertical-align: middle;\n",
       "    }\n",
       "\n",
       "    .dataframe tbody tr th {\n",
       "        vertical-align: top;\n",
       "    }\n",
       "\n",
       "    .dataframe thead th {\n",
       "        text-align: right;\n",
       "    }\n",
       "</style>\n",
       "<table border=\"1\" class=\"dataframe\">\n",
       "  <thead>\n",
       "    <tr style=\"text-align: right;\">\n",
       "      <th></th>\n",
       "      <th>order_id</th>\n",
       "      <th>user_id</th>\n",
       "      <th>eval_set</th>\n",
       "      <th>order_number</th>\n",
       "      <th>order_dow</th>\n",
       "      <th>order_hour_of_day</th>\n",
       "      <th>days_since_prior_order</th>\n",
       "      <th>product_id</th>\n",
       "      <th>add_to_cart_order</th>\n",
       "      <th>reordered</th>\n",
       "      <th>_merge</th>\n",
       "      <th>product_name</th>\n",
       "      <th>aisle_id</th>\n",
       "      <th>department_id</th>\n",
       "      <th>prices</th>\n",
       "      <th>product_merge_flag</th>\n",
       "      <th>price_label</th>\n",
       "      <th>busiest_day</th>\n",
       "      <th>busiest_days</th>\n",
       "      <th>busiest_period_of_day</th>\n",
       "    </tr>\n",
       "  </thead>\n",
       "  <tbody>\n",
       "    <tr>\n",
       "      <th>0</th>\n",
       "      <td>2539329</td>\n",
       "      <td>1</td>\n",
       "      <td>prior</td>\n",
       "      <td>1</td>\n",
       "      <td>2</td>\n",
       "      <td>8</td>\n",
       "      <td>NaN</td>\n",
       "      <td>196</td>\n",
       "      <td>1</td>\n",
       "      <td>0</td>\n",
       "      <td>both</td>\n",
       "      <td>Soda</td>\n",
       "      <td>77</td>\n",
       "      <td>7</td>\n",
       "      <td>9.0</td>\n",
       "      <td>both</td>\n",
       "      <td>Mid-range product</td>\n",
       "      <td>Regularly busy</td>\n",
       "      <td>Regular</td>\n",
       "      <td>Average orders</td>\n",
       "    </tr>\n",
       "    <tr>\n",
       "      <th>1</th>\n",
       "      <td>2539329</td>\n",
       "      <td>1</td>\n",
       "      <td>prior</td>\n",
       "      <td>1</td>\n",
       "      <td>2</td>\n",
       "      <td>8</td>\n",
       "      <td>NaN</td>\n",
       "      <td>14084</td>\n",
       "      <td>2</td>\n",
       "      <td>0</td>\n",
       "      <td>both</td>\n",
       "      <td>Organic Unsweetened Vanilla Almond Milk</td>\n",
       "      <td>91</td>\n",
       "      <td>16</td>\n",
       "      <td>12.5</td>\n",
       "      <td>both</td>\n",
       "      <td>Mid-range product</td>\n",
       "      <td>Regularly busy</td>\n",
       "      <td>Regular</td>\n",
       "      <td>Average orders</td>\n",
       "    </tr>\n",
       "    <tr>\n",
       "      <th>2</th>\n",
       "      <td>2539329</td>\n",
       "      <td>1</td>\n",
       "      <td>prior</td>\n",
       "      <td>1</td>\n",
       "      <td>2</td>\n",
       "      <td>8</td>\n",
       "      <td>NaN</td>\n",
       "      <td>12427</td>\n",
       "      <td>3</td>\n",
       "      <td>0</td>\n",
       "      <td>both</td>\n",
       "      <td>Original Beef Jerky</td>\n",
       "      <td>23</td>\n",
       "      <td>19</td>\n",
       "      <td>4.4</td>\n",
       "      <td>both</td>\n",
       "      <td>Low-range product</td>\n",
       "      <td>Regularly busy</td>\n",
       "      <td>Regular</td>\n",
       "      <td>Average orders</td>\n",
       "    </tr>\n",
       "    <tr>\n",
       "      <th>3</th>\n",
       "      <td>2539329</td>\n",
       "      <td>1</td>\n",
       "      <td>prior</td>\n",
       "      <td>1</td>\n",
       "      <td>2</td>\n",
       "      <td>8</td>\n",
       "      <td>NaN</td>\n",
       "      <td>26088</td>\n",
       "      <td>4</td>\n",
       "      <td>0</td>\n",
       "      <td>both</td>\n",
       "      <td>Aged White Cheddar Popcorn</td>\n",
       "      <td>23</td>\n",
       "      <td>19</td>\n",
       "      <td>4.7</td>\n",
       "      <td>both</td>\n",
       "      <td>Low-range product</td>\n",
       "      <td>Regularly busy</td>\n",
       "      <td>Regular</td>\n",
       "      <td>Average orders</td>\n",
       "    </tr>\n",
       "    <tr>\n",
       "      <th>4</th>\n",
       "      <td>2539329</td>\n",
       "      <td>1</td>\n",
       "      <td>prior</td>\n",
       "      <td>1</td>\n",
       "      <td>2</td>\n",
       "      <td>8</td>\n",
       "      <td>NaN</td>\n",
       "      <td>26405</td>\n",
       "      <td>5</td>\n",
       "      <td>0</td>\n",
       "      <td>both</td>\n",
       "      <td>XL Pick-A-Size Paper Towel Rolls</td>\n",
       "      <td>54</td>\n",
       "      <td>17</td>\n",
       "      <td>1.0</td>\n",
       "      <td>both</td>\n",
       "      <td>Low-range product</td>\n",
       "      <td>Regularly busy</td>\n",
       "      <td>Regular</td>\n",
       "      <td>Average orders</td>\n",
       "    </tr>\n",
       "  </tbody>\n",
       "</table>\n",
       "</div>"
      ],
      "text/plain": [
       "   order_id  user_id eval_set  order_number  order_dow  order_hour_of_day  \\\n",
       "0   2539329        1    prior             1          2                  8   \n",
       "1   2539329        1    prior             1          2                  8   \n",
       "2   2539329        1    prior             1          2                  8   \n",
       "3   2539329        1    prior             1          2                  8   \n",
       "4   2539329        1    prior             1          2                  8   \n",
       "\n",
       "   days_since_prior_order  product_id  add_to_cart_order  reordered _merge  \\\n",
       "0                     NaN         196                  1          0   both   \n",
       "1                     NaN       14084                  2          0   both   \n",
       "2                     NaN       12427                  3          0   both   \n",
       "3                     NaN       26088                  4          0   both   \n",
       "4                     NaN       26405                  5          0   both   \n",
       "\n",
       "                              product_name  aisle_id  department_id  prices  \\\n",
       "0                                     Soda        77              7     9.0   \n",
       "1  Organic Unsweetened Vanilla Almond Milk        91             16    12.5   \n",
       "2                      Original Beef Jerky        23             19     4.4   \n",
       "3               Aged White Cheddar Popcorn        23             19     4.7   \n",
       "4         XL Pick-A-Size Paper Towel Rolls        54             17     1.0   \n",
       "\n",
       "  product_merge_flag        price_label     busiest_day busiest_days  \\\n",
       "0               both  Mid-range product  Regularly busy      Regular   \n",
       "1               both  Mid-range product  Regularly busy      Regular   \n",
       "2               both  Low-range product  Regularly busy      Regular   \n",
       "3               both  Low-range product  Regularly busy      Regular   \n",
       "4               both  Low-range product  Regularly busy      Regular   \n",
       "\n",
       "  busiest_period_of_day  \n",
       "0        Average orders  \n",
       "1        Average orders  \n",
       "2        Average orders  \n",
       "3        Average orders  \n",
       "4        Average orders  "
      ]
     },
     "execution_count": 4,
     "metadata": {},
     "output_type": "execute_result"
    }
   ],
   "source": [
    "# Check the data structure\n",
    "ords_prods_merge.shape\n",
    "ords_prods_merge.head()"
   ]
  },
  {
   "cell_type": "markdown",
   "id": "d8338207-ef44-4d22-9b98-fadd91cd09a0",
   "metadata": {},
   "source": [
    "# 2. Aggregate Mean of 'order_number' by 'department_id' (full dataset)"
   ]
  },
  {
   "cell_type": "code",
   "execution_count": 16,
   "id": "f628f79d-f56b-458d-9a1e-04d3282b9899",
   "metadata": {},
   "outputs": [
    {
     "name": "stdout",
     "output_type": "stream",
     "text": [
      "               order_number\n",
      "department_id              \n",
      "1                 14.800024\n",
      "2                 17.091743\n",
      "3                 17.913544\n",
      "4                 17.893092\n",
      "5                 15.214270\n",
      "6                 15.382135\n",
      "7                 17.694027\n",
      "8                 16.458105\n",
      "9                 15.957363\n",
      "10                20.091818\n",
      "11                16.482026\n",
      "12                15.615061\n",
      "13                16.484023\n",
      "14                17.524632\n",
      "15                15.691875\n",
      "16                18.014071\n",
      "17                16.150593\n",
      "18                19.602850\n",
      "19                17.631340\n",
      "20                17.138607\n",
      "21                21.956893\n"
     ]
    }
   ],
   "source": [
    "# Aggregates the mean of 'order_number' by 'department_id'\n",
    "dept_order_mean = ords_prods_merge.groupby('department_id').agg({'order_number': 'mean'})\n",
    "print(dept_order_mean)"
   ]
  },
  {
   "cell_type": "markdown",
   "id": "10ffeb46-cd2b-4e70-830d-67fa38f8a0bd",
   "metadata": {},
   "source": [
    "# Markdown Analysis\n",
    "# Compared to the subset, the average number of orders per department in the full dataset reflects more accurate global patterns. \n",
    "# For example, while Produce still has the highest average, the values have slightly shifted due to more data being included.`"
   ]
  },
  {
   "cell_type": "markdown",
   "id": "b7de0e5b-c962-4259-97a6-ad7b766243b2",
   "metadata": {},
   "source": [
    "# 3. Create Loyalty Flag (Repeat Transform + loc Workflow)"
   ]
  },
  {
   "cell_type": "code",
   "execution_count": 22,
   "id": "0eb6bef5-7970-4e2b-afd5-3fdc8d7596f1",
   "metadata": {},
   "outputs": [
    {
     "name": "stderr",
     "output_type": "stream",
     "text": [
      "C:\\Users\\Jacques\\AppData\\Local\\Temp\\ipykernel_12440\\1582167655.py:2: FutureWarning: The provided callable <function max at 0x0000028AF9A4E7A0> is currently using SeriesGroupBy.max. In a future version of pandas, the provided callable will be used directly. To keep current behavior pass the string \"max\" instead.\n",
      "  ords_prods_merge['max_order'] = ords_prods_merge.groupby('user_id')['order_number'].transform(np.max)\n"
     ]
    }
   ],
   "source": [
    "# Get the max orders per user\n",
    "ords_prods_merge['max_order'] = ords_prods_merge.groupby('user_id')['order_number'].transform(np.max)"
   ]
  },
  {
   "cell_type": "code",
   "execution_count": 24,
   "id": "b9faac7c-4e6d-4ec7-b5d8-460f4be8c20f",
   "metadata": {},
   "outputs": [],
   "source": [
    "# Assign loyalty levels using loc():\n",
    "ords_prods_merge.loc[ords_prods_merge['max_order'] > 40, 'loyalty_flag'] = 'Loyal customer'\n",
    "ords_prods_merge.loc[(ords_prods_merge['max_order'] <= 40) & (ords_prods_merge['max_order'] > 10), 'loyalty_flag'] = 'Regular customer'\n",
    "ords_prods_merge.loc[ords_prods_merge['max_order'] <= 10, 'loyalty_flag'] = 'New customer'"
   ]
  },
  {
   "cell_type": "markdown",
   "id": "70aa4ec6-afc1-42b2-96d8-ac08a987a5d9",
   "metadata": {},
   "source": [
    "# 4. Compare Spending by Loyalty Category"
   ]
  },
  {
   "cell_type": "code",
   "execution_count": 29,
   "id": "5beb90b5-a5c9-431e-b7a1-cef5df7f91b2",
   "metadata": {},
   "outputs": [
    {
     "data": {
      "text/html": [
       "<div>\n",
       "<style scoped>\n",
       "    .dataframe tbody tr th:only-of-type {\n",
       "        vertical-align: middle;\n",
       "    }\n",
       "\n",
       "    .dataframe tbody tr th {\n",
       "        vertical-align: top;\n",
       "    }\n",
       "\n",
       "    .dataframe thead tr th {\n",
       "        text-align: left;\n",
       "    }\n",
       "\n",
       "    .dataframe thead tr:last-of-type th {\n",
       "        text-align: right;\n",
       "    }\n",
       "</style>\n",
       "<table border=\"1\" class=\"dataframe\">\n",
       "  <thead>\n",
       "    <tr>\n",
       "      <th></th>\n",
       "      <th colspan=\"4\" halign=\"left\">prices</th>\n",
       "    </tr>\n",
       "    <tr>\n",
       "      <th></th>\n",
       "      <th>mean</th>\n",
       "      <th>min</th>\n",
       "      <th>max</th>\n",
       "      <th>median</th>\n",
       "    </tr>\n",
       "    <tr>\n",
       "      <th>loyalty_flag</th>\n",
       "      <th></th>\n",
       "      <th></th>\n",
       "      <th></th>\n",
       "      <th></th>\n",
       "    </tr>\n",
       "  </thead>\n",
       "  <tbody>\n",
       "    <tr>\n",
       "      <th>Loyal customer</th>\n",
       "      <td>9.081626</td>\n",
       "      <td>1.0</td>\n",
       "      <td>99999.0</td>\n",
       "      <td>7.3</td>\n",
       "    </tr>\n",
       "    <tr>\n",
       "      <th>New customer</th>\n",
       "      <td>15.843383</td>\n",
       "      <td>1.0</td>\n",
       "      <td>99999.0</td>\n",
       "      <td>7.4</td>\n",
       "    </tr>\n",
       "    <tr>\n",
       "      <th>Regular customer</th>\n",
       "      <td>11.139256</td>\n",
       "      <td>1.0</td>\n",
       "      <td>99999.0</td>\n",
       "      <td>7.4</td>\n",
       "    </tr>\n",
       "  </tbody>\n",
       "</table>\n",
       "</div>"
      ],
      "text/plain": [
       "                     prices                     \n",
       "                       mean  min      max median\n",
       "loyalty_flag                                    \n",
       "Loyal customer     9.081626  1.0  99999.0    7.3\n",
       "New customer      15.843383  1.0  99999.0    7.4\n",
       "Regular customer  11.139256  1.0  99999.0    7.4"
      ]
     },
     "execution_count": 29,
     "metadata": {},
     "output_type": "execute_result"
    }
   ],
   "source": [
    "# Get basic descriptive statistics for the different types of customers\n",
    "ords_prods_merge.groupby('loyalty_flag').agg({'prices': ['mean', 'min', 'max', 'median']})"
   ]
  },
  {
   "cell_type": "markdown",
   "id": "eaf659fe-f9d6-4bec-b594-b929141d6d7d",
   "metadata": {},
   "source": [
    "# Markdown Analysis\n",
    "\n",
    "# From the summary statistics, we observe the following:\n",
    "\n",
    "# New customers have the highest average price per product purchased (`15.84`), suggesting that they may be buying fewer but more expensive items on their first few orders.\n",
    "# Loyal customers have the lowest average price (`9.08`), which may indicate more frequent purchases of lower-cost everyday items, possibly due to established shopping habits.\n",
    "# Regular customers fall in between, with an average price of `11.14`.\n",
    "\n",
    "# Interestingly, the median prices are fairly consistent across all segments (around `7.3–7.4`), indicating that the majority of items purchased fall within a similar price range,\n",
    "# but the mean is skewed by very high-priced outliers (as shown by the `max` value of `99999.0` across all groups). This suggests there are likely some data quality issues or anomalies that should be cleaned or filtered in future analyses."
   ]
  },
  {
   "cell_type": "markdown",
   "id": "7d0a4e4b-6bb5-4503-9d2e-0069c5559e17",
   "metadata": {},
   "source": [
    "# 5. Create Spending Flag Based on Average Price per User"
   ]
  },
  {
   "cell_type": "code",
   "execution_count": 34,
   "id": "7e21870f-2cdf-4fd3-915d-c6c239586a9b",
   "metadata": {},
   "outputs": [],
   "source": [
    "# Calculate average price per user\n",
    "ords_prods_merge['avg_price'] = ords_prods_merge.groupby('user_id')['prices'].transform('mean')"
   ]
  },
  {
   "cell_type": "code",
   "execution_count": 36,
   "id": "b15a3772-4d87-4648-90c1-ef69bea93930",
   "metadata": {},
   "outputs": [],
   "source": [
    "# Create the flag\n",
    "ords_prods_merge.loc[ords_prods_merge['avg_price'] < 10, 'spending_flag'] = 'Low spender'\n",
    "ords_prods_merge.loc[ords_prods_merge['avg_price'] >= 10, 'spending_flag'] = 'High spender'"
   ]
  },
  {
   "cell_type": "markdown",
   "id": "99ae9738-3947-430c-9ef4-4df2b9f1a045",
   "metadata": {},
   "source": [
    "# 6. Create Order Frequency Flag"
   ]
  },
  {
   "cell_type": "code",
   "execution_count": 39,
   "id": "87018a05-afb7-4370-8dfb-918a959d89f8",
   "metadata": {},
   "outputs": [],
   "source": [
    "# Calculate median days since prior order\n",
    "ords_prods_merge['median_days'] = ords_prods_merge.groupby('user_id')['days_since_prior_order'].transform('median')"
   ]
  },
  {
   "cell_type": "code",
   "execution_count": 41,
   "id": "27d6a7b7-2bcf-423d-adc6-6cf34dad1a28",
   "metadata": {},
   "outputs": [],
   "source": [
    "# Create flag based on median\n",
    "ords_prods_merge.loc[ords_prods_merge['median_days'] > 20, 'order_freq_flag'] = 'Non-frequent customer'\n",
    "ords_prods_merge.loc[(ords_prods_merge['median_days'] > 10) & (ords_prods_merge['median_days'] <= 20), 'order_freq_flag'] = 'Regular customer'\n",
    "ords_prods_merge.loc[ords_prods_merge['median_days'] <= 10, 'order_freq_flag'] = 'Frequent customer'"
   ]
  },
  {
   "cell_type": "markdown",
   "id": "fe016078-fa10-4548-a3de-22ca501fd488",
   "metadata": {},
   "source": [
    "# 7. Export the Updated DataFrame"
   ]
  },
  {
   "cell_type": "code",
   "execution_count": 44,
   "id": "e87a9b6d-a3be-4512-a4e7-17d91bda62cd",
   "metadata": {},
   "outputs": [],
   "source": [
    "# Export the Updated DataFrame\n",
    "ords_prods_merge.to_pickle(os.path.join(path, '02 Data', 'Prepared Data', 'ords_prods_enriched.pkl'))"
   ]
  },
  {
   "cell_type": "code",
   "execution_count": null,
   "id": "7a030b0c-735d-4ea0-84dd-3e439e0e7019",
   "metadata": {},
   "outputs": [],
   "source": []
  }
 ],
 "metadata": {
  "kernelspec": {
   "display_name": "Python 3 (ipykernel)",
   "language": "python",
   "name": "python3"
  },
  "language_info": {
   "codemirror_mode": {
    "name": "ipython",
    "version": 3
   },
   "file_extension": ".py",
   "mimetype": "text/x-python",
   "name": "python",
   "nbconvert_exporter": "python",
   "pygments_lexer": "ipython3",
   "version": "3.12.4"
  }
 },
 "nbformat": 4,
 "nbformat_minor": 5
}
