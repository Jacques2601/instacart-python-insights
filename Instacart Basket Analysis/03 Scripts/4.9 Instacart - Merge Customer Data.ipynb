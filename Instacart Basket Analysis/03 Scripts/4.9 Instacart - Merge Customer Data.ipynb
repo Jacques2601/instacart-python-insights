{
 "cells": [
  {
   "cell_type": "markdown",
   "id": "e5222810-5b89-4707-a194-4e7e43914356",
   "metadata": {},
   "source": [
    "# Part 1\n",
    "________________________________________________________________________________________________________________________________________________________"
   ]
  },
  {
   "cell_type": "markdown",
   "id": "badb9c90-d221-475f-8acc-0b5bcc283451",
   "metadata": {},
   "source": [
    "# Step 1: Import Libraries and Load Customer Data"
   ]
  },
  {
   "cell_type": "code",
   "execution_count": 3,
   "id": "9edbc9ae-95cf-4d6b-94bc-ff7e2ca5c9f1",
   "metadata": {},
   "outputs": [
    {
     "data": {
      "text/html": [
       "<div>\n",
       "<style scoped>\n",
       "    .dataframe tbody tr th:only-of-type {\n",
       "        vertical-align: middle;\n",
       "    }\n",
       "\n",
       "    .dataframe tbody tr th {\n",
       "        vertical-align: top;\n",
       "    }\n",
       "\n",
       "    .dataframe thead th {\n",
       "        text-align: right;\n",
       "    }\n",
       "</style>\n",
       "<table border=\"1\" class=\"dataframe\">\n",
       "  <thead>\n",
       "    <tr style=\"text-align: right;\">\n",
       "      <th></th>\n",
       "      <th>order_id</th>\n",
       "      <th>user_id</th>\n",
       "      <th>eval_set</th>\n",
       "      <th>order_number</th>\n",
       "      <th>order_dow</th>\n",
       "      <th>order_hour_of_day</th>\n",
       "      <th>days_since_prior_order</th>\n",
       "      <th>product_id</th>\n",
       "      <th>add_to_cart_order</th>\n",
       "      <th>reordered</th>\n",
       "      <th>_merge</th>\n",
       "      <th>product_name</th>\n",
       "      <th>aisle_id</th>\n",
       "      <th>department_id</th>\n",
       "      <th>prices</th>\n",
       "      <th>product_merge_flag</th>\n",
       "    </tr>\n",
       "  </thead>\n",
       "  <tbody>\n",
       "    <tr>\n",
       "      <th>0</th>\n",
       "      <td>2539329</td>\n",
       "      <td>1</td>\n",
       "      <td>prior</td>\n",
       "      <td>1</td>\n",
       "      <td>2</td>\n",
       "      <td>8</td>\n",
       "      <td>NaN</td>\n",
       "      <td>196</td>\n",
       "      <td>1</td>\n",
       "      <td>0</td>\n",
       "      <td>both</td>\n",
       "      <td>Soda</td>\n",
       "      <td>77</td>\n",
       "      <td>7</td>\n",
       "      <td>9.0</td>\n",
       "      <td>both</td>\n",
       "    </tr>\n",
       "    <tr>\n",
       "      <th>1</th>\n",
       "      <td>2539329</td>\n",
       "      <td>1</td>\n",
       "      <td>prior</td>\n",
       "      <td>1</td>\n",
       "      <td>2</td>\n",
       "      <td>8</td>\n",
       "      <td>NaN</td>\n",
       "      <td>14084</td>\n",
       "      <td>2</td>\n",
       "      <td>0</td>\n",
       "      <td>both</td>\n",
       "      <td>Organic Unsweetened Vanilla Almond Milk</td>\n",
       "      <td>91</td>\n",
       "      <td>16</td>\n",
       "      <td>12.5</td>\n",
       "      <td>both</td>\n",
       "    </tr>\n",
       "    <tr>\n",
       "      <th>2</th>\n",
       "      <td>2539329</td>\n",
       "      <td>1</td>\n",
       "      <td>prior</td>\n",
       "      <td>1</td>\n",
       "      <td>2</td>\n",
       "      <td>8</td>\n",
       "      <td>NaN</td>\n",
       "      <td>12427</td>\n",
       "      <td>3</td>\n",
       "      <td>0</td>\n",
       "      <td>both</td>\n",
       "      <td>Original Beef Jerky</td>\n",
       "      <td>23</td>\n",
       "      <td>19</td>\n",
       "      <td>4.4</td>\n",
       "      <td>both</td>\n",
       "    </tr>\n",
       "    <tr>\n",
       "      <th>3</th>\n",
       "      <td>2539329</td>\n",
       "      <td>1</td>\n",
       "      <td>prior</td>\n",
       "      <td>1</td>\n",
       "      <td>2</td>\n",
       "      <td>8</td>\n",
       "      <td>NaN</td>\n",
       "      <td>26088</td>\n",
       "      <td>4</td>\n",
       "      <td>0</td>\n",
       "      <td>both</td>\n",
       "      <td>Aged White Cheddar Popcorn</td>\n",
       "      <td>23</td>\n",
       "      <td>19</td>\n",
       "      <td>4.7</td>\n",
       "      <td>both</td>\n",
       "    </tr>\n",
       "    <tr>\n",
       "      <th>4</th>\n",
       "      <td>2539329</td>\n",
       "      <td>1</td>\n",
       "      <td>prior</td>\n",
       "      <td>1</td>\n",
       "      <td>2</td>\n",
       "      <td>8</td>\n",
       "      <td>NaN</td>\n",
       "      <td>26405</td>\n",
       "      <td>5</td>\n",
       "      <td>0</td>\n",
       "      <td>both</td>\n",
       "      <td>XL Pick-A-Size Paper Towel Rolls</td>\n",
       "      <td>54</td>\n",
       "      <td>17</td>\n",
       "      <td>1.0</td>\n",
       "      <td>both</td>\n",
       "    </tr>\n",
       "  </tbody>\n",
       "</table>\n",
       "</div>"
      ],
      "text/plain": [
       "   order_id  user_id eval_set  order_number  order_dow  order_hour_of_day  \\\n",
       "0   2539329        1    prior             1          2                  8   \n",
       "1   2539329        1    prior             1          2                  8   \n",
       "2   2539329        1    prior             1          2                  8   \n",
       "3   2539329        1    prior             1          2                  8   \n",
       "4   2539329        1    prior             1          2                  8   \n",
       "\n",
       "   days_since_prior_order  product_id  add_to_cart_order  reordered _merge  \\\n",
       "0                     NaN         196                  1          0   both   \n",
       "1                     NaN       14084                  2          0   both   \n",
       "2                     NaN       12427                  3          0   both   \n",
       "3                     NaN       26088                  4          0   both   \n",
       "4                     NaN       26405                  5          0   both   \n",
       "\n",
       "                              product_name  aisle_id  department_id  prices  \\\n",
       "0                                     Soda        77              7     9.0   \n",
       "1  Organic Unsweetened Vanilla Almond Milk        91             16    12.5   \n",
       "2                      Original Beef Jerky        23             19     4.4   \n",
       "3               Aged White Cheddar Popcorn        23             19     4.7   \n",
       "4         XL Pick-A-Size Paper Towel Rolls        54             17     1.0   \n",
       "\n",
       "  product_merge_flag  \n",
       "0               both  \n",
       "1               both  \n",
       "2               both  \n",
       "3               both  \n",
       "4               both  "
      ]
     },
     "execution_count": 3,
     "metadata": {},
     "output_type": "execute_result"
    }
   ],
   "source": [
    "# Import the libraries\n",
    "import pandas as pd\n",
    "import numpy as np\n",
    "import os\n",
    "\n",
    "# Define the path\n",
    "path = r'C:\\Users\\Jacques\\OneDrive\\Documents\\Data Analytics course\\Data Immersion\\Section 4\\08 April 2025 Instacart Basket Analysis'\n",
    "\n",
    "# Load the customer dataset\n",
    "df_customers = pd.read_csv(os.path.join(path, '02 Data', 'Original Data', 'customers.csv'))\n",
    "\n",
    "# Load the ords_prods_merge dataset\n",
    "df_ords_prods_merge = pd.read_pickle(os.path.join(path, '02 Data', 'Prepared Data', 'ords_prods_merge.pkl'))\n",
    "\n",
    "# Preview the dataset\n",
    "df_customers.head()\n",
    "\n",
    "# Preview the dataset\n",
    "df_ords_prods_merge.head()"
   ]
  },
  {
   "cell_type": "code",
   "execution_count": 5,
   "id": "57149f35-2b42-40dc-8213-0c1c43ec62bc",
   "metadata": {},
   "outputs": [
    {
     "name": "stdout",
     "output_type": "stream",
     "text": [
      "Number of rows: 32404859\n"
     ]
    }
   ],
   "source": [
    "# print the number of rows\n",
    "print(\"Number of rows:\", df_ords_prods_merge.shape[0])"
   ]
  },
  {
   "cell_type": "markdown",
   "id": "57591d0e-e0d8-4088-ab37-1bea1f30aca1",
   "metadata": {},
   "source": [
    "# Step 2: Wrangle the Data"
   ]
  },
  {
   "cell_type": "markdown",
   "id": "154dc776-a956-4168-9d59-89ce6eb03636",
   "metadata": {},
   "source": [
    "Rename confusing column names (e.g., 'fam_status' → 'family_status')"
   ]
  },
  {
   "cell_type": "code",
   "execution_count": 108,
   "id": "7ea0a608-e7ac-4470-8f9e-237ce0923ff2",
   "metadata": {},
   "outputs": [],
   "source": [
    "# Rename the 'fam_status' column to 'family_status' for improved readability and consistency\n",
    "df_customers.rename(columns={'fam_status': 'family_status'}, inplace=True)"
   ]
  },
  {
   "cell_type": "markdown",
   "id": "08e0ed2d-ccca-4345-a4f5-5134dc3963a0",
   "metadata": {},
   "source": [
    "Drop unnecessary columns"
   ]
  },
  {
   "cell_type": "code",
   "execution_count": 111,
   "id": "dd5ac81f-bbd2-4651-989d-ce2c5b29cdaf",
   "metadata": {},
   "outputs": [],
   "source": [
    "# Reset the index to default integer values and drop the current index\n",
    "df_customers.reset_index(drop=True, inplace=True)"
   ]
  },
  {
   "cell_type": "code",
   "execution_count": 113,
   "id": "41b8e838-b7ab-4d7e-9065-207d02019293",
   "metadata": {},
   "outputs": [
    {
     "data": {
      "text/html": [
       "<div>\n",
       "<style scoped>\n",
       "    .dataframe tbody tr th:only-of-type {\n",
       "        vertical-align: middle;\n",
       "    }\n",
       "\n",
       "    .dataframe tbody tr th {\n",
       "        vertical-align: top;\n",
       "    }\n",
       "\n",
       "    .dataframe thead th {\n",
       "        text-align: right;\n",
       "    }\n",
       "</style>\n",
       "<table border=\"1\" class=\"dataframe\">\n",
       "  <thead>\n",
       "    <tr style=\"text-align: right;\">\n",
       "      <th></th>\n",
       "      <th>user_id</th>\n",
       "      <th>First Name</th>\n",
       "      <th>Surname</th>\n",
       "      <th>Gender</th>\n",
       "      <th>STATE</th>\n",
       "      <th>Age</th>\n",
       "      <th>date_joined</th>\n",
       "      <th>n_dependants</th>\n",
       "      <th>family_status</th>\n",
       "      <th>income</th>\n",
       "    </tr>\n",
       "  </thead>\n",
       "  <tbody>\n",
       "    <tr>\n",
       "      <th>0</th>\n",
       "      <td>26711</td>\n",
       "      <td>Deborah</td>\n",
       "      <td>Esquivel</td>\n",
       "      <td>Female</td>\n",
       "      <td>Missouri</td>\n",
       "      <td>48</td>\n",
       "      <td>2017-01-01</td>\n",
       "      <td>3</td>\n",
       "      <td>married</td>\n",
       "      <td>165665</td>\n",
       "    </tr>\n",
       "    <tr>\n",
       "      <th>1</th>\n",
       "      <td>33890</td>\n",
       "      <td>Patricia</td>\n",
       "      <td>Hart</td>\n",
       "      <td>Female</td>\n",
       "      <td>New Mexico</td>\n",
       "      <td>36</td>\n",
       "      <td>2017-01-01</td>\n",
       "      <td>0</td>\n",
       "      <td>single</td>\n",
       "      <td>59285</td>\n",
       "    </tr>\n",
       "    <tr>\n",
       "      <th>2</th>\n",
       "      <td>65803</td>\n",
       "      <td>Kenneth</td>\n",
       "      <td>Farley</td>\n",
       "      <td>Male</td>\n",
       "      <td>Idaho</td>\n",
       "      <td>35</td>\n",
       "      <td>2017-01-01</td>\n",
       "      <td>2</td>\n",
       "      <td>married</td>\n",
       "      <td>99568</td>\n",
       "    </tr>\n",
       "    <tr>\n",
       "      <th>3</th>\n",
       "      <td>125935</td>\n",
       "      <td>Michelle</td>\n",
       "      <td>Hicks</td>\n",
       "      <td>Female</td>\n",
       "      <td>Iowa</td>\n",
       "      <td>40</td>\n",
       "      <td>2017-01-01</td>\n",
       "      <td>0</td>\n",
       "      <td>single</td>\n",
       "      <td>42049</td>\n",
       "    </tr>\n",
       "    <tr>\n",
       "      <th>4</th>\n",
       "      <td>130797</td>\n",
       "      <td>Ann</td>\n",
       "      <td>Gilmore</td>\n",
       "      <td>Female</td>\n",
       "      <td>Maryland</td>\n",
       "      <td>26</td>\n",
       "      <td>2017-01-01</td>\n",
       "      <td>1</td>\n",
       "      <td>married</td>\n",
       "      <td>40374</td>\n",
       "    </tr>\n",
       "  </tbody>\n",
       "</table>\n",
       "</div>"
      ],
      "text/plain": [
       "   user_id First Name   Surname  Gender       STATE  Age date_joined  \\\n",
       "0    26711    Deborah  Esquivel  Female    Missouri   48  2017-01-01   \n",
       "1    33890   Patricia      Hart  Female  New Mexico   36  2017-01-01   \n",
       "2    65803    Kenneth    Farley    Male       Idaho   35  2017-01-01   \n",
       "3   125935   Michelle     Hicks  Female        Iowa   40  2017-01-01   \n",
       "4   130797        Ann   Gilmore  Female    Maryland   26  2017-01-01   \n",
       "\n",
       "   n_dependants family_status  income  \n",
       "0             3       married  165665  \n",
       "1             0        single   59285  \n",
       "2             2       married   99568  \n",
       "3             0        single   42049  \n",
       "4             1       married   40374  "
      ]
     },
     "execution_count": 113,
     "metadata": {},
     "output_type": "execute_result"
    }
   ],
   "source": [
    "# Preview the dataset\n",
    "df_customers.head()"
   ]
  },
  {
   "cell_type": "markdown",
   "id": "f63fc4a8-1ca5-4b99-b38e-f87ce0edc0e5",
   "metadata": {},
   "source": [
    "# Step 3: Perform Data Quality Checks"
   ]
  },
  {
   "cell_type": "markdown",
   "id": "c2bcf39d-b9a0-4813-956a-6715f482ee33",
   "metadata": {},
   "source": [
    "Check for missing values"
   ]
  },
  {
   "cell_type": "code",
   "execution_count": 117,
   "id": "cc0cebc2-13ce-4fe4-bbef-9ec9d4e12065",
   "metadata": {},
   "outputs": [
    {
     "data": {
      "text/plain": [
       "user_id          0\n",
       "First Name       0\n",
       "Surname          0\n",
       "Gender           0\n",
       "STATE            0\n",
       "Age              0\n",
       "date_joined      0\n",
       "n_dependants     0\n",
       "family_status    0\n",
       "income           0\n",
       "dtype: int64"
      ]
     },
     "execution_count": 117,
     "metadata": {},
     "output_type": "execute_result"
    }
   ],
   "source": [
    "# Check for missing values in each column of the dataframe\n",
    "df_customers.isnull().sum()"
   ]
  },
  {
   "cell_type": "markdown",
   "id": "fcce4366-a5a6-4dbe-b195-57af6f43629d",
   "metadata": {},
   "source": [
    "Fill in the missing values"
   ]
  },
  {
   "cell_type": "code",
   "execution_count": 120,
   "id": "52448312-deec-4391-8507-d9feff31212a",
   "metadata": {},
   "outputs": [
    {
     "name": "stderr",
     "output_type": "stream",
     "text": [
      "C:\\Users\\Jacques\\AppData\\Local\\Temp\\ipykernel_4500\\1806435551.py:2: FutureWarning: A value is trying to be set on a copy of a DataFrame or Series through chained assignment using an inplace method.\n",
      "The behavior will change in pandas 3.0. This inplace method will never work because the intermediate object on which we are setting values always behaves as a copy.\n",
      "\n",
      "For example, when doing 'df[col].method(value, inplace=True)', try using 'df.method({col: value}, inplace=True)' or df[col] = df[col].method(value) instead, to perform the operation inplace on the original object.\n",
      "\n",
      "\n",
      "  df_customers['First Name'].fillna('Unknown', inplace=True)\n"
     ]
    }
   ],
   "source": [
    "# Fill missing values in the 'First Name' column with the placeholder 'Unknown'\n",
    "df_customers['First Name'].fillna('Unknown', inplace=True)"
   ]
  },
  {
   "cell_type": "markdown",
   "id": "705378e7-7940-40f7-a48d-6b2f82988f68",
   "metadata": {},
   "source": [
    "Re-check for any remaining missing values"
   ]
  },
  {
   "cell_type": "code",
   "execution_count": 123,
   "id": "dbd78eb0-22ba-40fc-a078-a6c434c27547",
   "metadata": {},
   "outputs": [
    {
     "data": {
      "text/plain": [
       "user_id          0\n",
       "First Name       0\n",
       "Surname          0\n",
       "Gender           0\n",
       "STATE            0\n",
       "Age              0\n",
       "date_joined      0\n",
       "n_dependants     0\n",
       "family_status    0\n",
       "income           0\n",
       "dtype: int64"
      ]
     },
     "execution_count": 123,
     "metadata": {},
     "output_type": "execute_result"
    }
   ],
   "source": [
    "# Recheck for missing values after filling to confirm the update was successful\n",
    "df_customers.isnull().sum()"
   ]
  },
  {
   "cell_type": "markdown",
   "id": "b13eae8d-e296-49cc-a616-c4a0d1e6feec",
   "metadata": {},
   "source": [
    "Check for duplicates"
   ]
  },
  {
   "cell_type": "code",
   "execution_count": 126,
   "id": "ee577276-fbe4-42b5-a3c6-3e2ab3784bc6",
   "metadata": {},
   "outputs": [
    {
     "data": {
      "text/plain": [
       "0"
      ]
     },
     "execution_count": 126,
     "metadata": {},
     "output_type": "execute_result"
    }
   ],
   "source": [
    "# Check for duplicate rows in the dataframe\n",
    "df_customers.duplicated().sum()"
   ]
  },
  {
   "cell_type": "markdown",
   "id": "cd04d489-8d42-449a-bed8-5d1c96854ff4",
   "metadata": {},
   "source": [
    "Convert mixed data types"
   ]
  },
  {
   "cell_type": "code",
   "execution_count": 129,
   "id": "0fe06b52-88f5-462f-8ba7-bae2adaf570d",
   "metadata": {},
   "outputs": [
    {
     "name": "stdout",
     "output_type": "stream",
     "text": [
      "<class 'pandas.core.frame.DataFrame'>\n",
      "RangeIndex: 206209 entries, 0 to 206208\n",
      "Data columns (total 10 columns):\n",
      " #   Column         Non-Null Count   Dtype         \n",
      "---  ------         --------------   -----         \n",
      " 0   user_id        206209 non-null  int64         \n",
      " 1   First Name     206209 non-null  object        \n",
      " 2   Surname        206209 non-null  object        \n",
      " 3   Gender         206209 non-null  category      \n",
      " 4   STATE          206209 non-null  category      \n",
      " 5   Age            206209 non-null  int64         \n",
      " 6   date_joined    206209 non-null  datetime64[ns]\n",
      " 7   n_dependants   206209 non-null  int64         \n",
      " 8   family_status  206209 non-null  category      \n",
      " 9   income         206209 non-null  int64         \n",
      "dtypes: category(3), datetime64[ns](1), int64(4), object(2)\n",
      "memory usage: 11.6+ MB\n"
     ]
    }
   ],
   "source": [
    "# Display basic information about the dataframe, including data types and non-null counts\n",
    "df_customers.info()"
   ]
  },
  {
   "cell_type": "markdown",
   "id": "449b9be5-68d0-4e32-b3a3-baae989c743a",
   "metadata": {},
   "source": [
    "Convert date_joined to datetime"
   ]
  },
  {
   "cell_type": "code",
   "execution_count": 132,
   "id": "8f676baa-61b4-48a8-9b71-5aaa5315cd1a",
   "metadata": {},
   "outputs": [],
   "source": [
    "# Convert the 'date_joined' column from string (object) to datetime format\n",
    "df_customers['date_joined'] = pd.to_datetime(df_customers['date_joined'])"
   ]
  },
  {
   "cell_type": "markdown",
   "id": "c6de129e-e438-4087-a87a-4263e487b771",
   "metadata": {},
   "source": [
    "Fix the typo in Surnam"
   ]
  },
  {
   "cell_type": "code",
   "execution_count": 135,
   "id": "053dd247-f4be-4060-bc0b-f47f3c0b2b7f",
   "metadata": {},
   "outputs": [],
   "source": [
    "# Rename the incorrectly named 'Surnam' column to 'Surname'\n",
    "df_customers.rename(columns={'Surnam': 'Surname'}, inplace=True)"
   ]
  },
  {
   "cell_type": "markdown",
   "id": "8cfcf20a-a010-4777-aa1f-79e984114edd",
   "metadata": {},
   "source": [
    "Convert object columns to category type"
   ]
  },
  {
   "cell_type": "code",
   "execution_count": 138,
   "id": "8a5cc946-85b5-4b98-a768-ad61e0c26034",
   "metadata": {},
   "outputs": [],
   "source": [
    "# Convert selected categorical columns from object type to category type to save memory and improve performance\n",
    "df_customers['Gender'] = df_customers['Gender'].astype('category')\n",
    "df_customers['family_status'] = df_customers['family_status'].astype('category')\n",
    "df_customers['STATE'] = df_customers['STATE'].astype('category')"
   ]
  },
  {
   "cell_type": "code",
   "execution_count": 140,
   "id": "7610ffe9-625b-494f-ad3a-8effac0e798c",
   "metadata": {},
   "outputs": [
    {
     "name": "stdout",
     "output_type": "stream",
     "text": [
      "<class 'pandas.core.frame.DataFrame'>\n",
      "RangeIndex: 206209 entries, 0 to 206208\n",
      "Data columns (total 10 columns):\n",
      " #   Column         Non-Null Count   Dtype         \n",
      "---  ------         --------------   -----         \n",
      " 0   user_id        206209 non-null  int64         \n",
      " 1   First Name     206209 non-null  object        \n",
      " 2   Surname        206209 non-null  object        \n",
      " 3   Gender         206209 non-null  category      \n",
      " 4   STATE          206209 non-null  category      \n",
      " 5   Age            206209 non-null  int64         \n",
      " 6   date_joined    206209 non-null  datetime64[ns]\n",
      " 7   n_dependants   206209 non-null  int64         \n",
      " 8   family_status  206209 non-null  category      \n",
      " 9   income         206209 non-null  int64         \n",
      "dtypes: category(3), datetime64[ns](1), int64(4), object(2)\n",
      "memory usage: 11.6+ MB\n"
     ]
    }
   ],
   "source": [
    "# Display updated dataframe info to confirm the data type changes\n",
    "df_customers.info()"
   ]
  },
  {
   "cell_type": "markdown",
   "id": "298245fb-1ce5-4464-8cf8-29008ec827f4",
   "metadata": {},
   "source": [
    "# Step 4: Merge with Main DataFrame"
   ]
  },
  {
   "cell_type": "markdown",
   "id": "1056a9b6-75fb-4f9a-8137-d2920efc1049",
   "metadata": {},
   "source": [
    "Check if user_id exists in both DataFrames"
   ]
  },
  {
   "cell_type": "code",
   "execution_count": 144,
   "id": "1f8e41c3-6da8-47b4-81a9-0282ff9d027f",
   "metadata": {},
   "outputs": [
    {
     "name": "stdout",
     "output_type": "stream",
     "text": [
      "user_id in df_customers: True\n",
      "user_id in ords_prods_merge: True\n"
     ]
    }
   ],
   "source": [
    "# Confirm that 'user_id' exists as a column in both dataframes before attempting a merge\n",
    "print('user_id in df_customers:', 'user_id' in df_customers.columns)\n",
    "print('user_id in ords_prods_merge:', 'user_id' in ords_prods_merge.columns)"
   ]
  },
  {
   "cell_type": "markdown",
   "id": "d07cf513-682d-482d-9770-117deecd9371",
   "metadata": {},
   "source": [
    "Check data types of user_id in both"
   ]
  },
  {
   "cell_type": "code",
   "execution_count": 147,
   "id": "38f5f8d8-57d6-4f59-b23f-3181132bee33",
   "metadata": {},
   "outputs": [
    {
     "name": "stdout",
     "output_type": "stream",
     "text": [
      "df_customers: int64\n",
      "ords_prods_merge: int64\n"
     ]
    }
   ],
   "source": [
    "# Print the data type of 'user_id' in both dataframes to ensure they match for merging\n",
    "print('df_customers:', df_customers['user_id'].dtype)\n",
    "print('ords_prods_merge:', ords_prods_merge['user_id'].dtype)"
   ]
  },
  {
   "cell_type": "markdown",
   "id": "cbff37d5-dc8a-4003-92f2-c1a34f9e40d6",
   "metadata": {},
   "source": [
    "Merge the two DataFrames"
   ]
  },
  {
   "cell_type": "code",
   "execution_count": 150,
   "id": "528ec8f8-6bab-4f1f-9277-889bdbdae08b",
   "metadata": {},
   "outputs": [],
   "source": [
    "# Merge the customer data with the main orders-products dataframe using a left join on 'user_id'\n",
    "df_merged = ords_prods_merge.merge(df_customers, on='user_id', how='left')"
   ]
  },
  {
   "cell_type": "markdown",
   "id": "0317cdee-04e4-45c7-93e1-1191f2b45be3",
   "metadata": {},
   "source": [
    "# Step 5: Export the Combined Data"
   ]
  },
  {
   "cell_type": "code",
   "execution_count": 158,
   "id": "a1ee1b3f-9776-4297-89fe-e00f98f44762",
   "metadata": {},
   "outputs": [],
   "source": [
    "# Export the merged dataframe as a pickle file to the 'Prepared Data' folder for future use\n",
    "df_merged.to_pickle(os.path.join(path, '02 Data', 'Prepared Data', 'orders_products_customers.pkl'))"
   ]
  },
  {
   "cell_type": "code",
   "execution_count": 160,
   "id": "ae376ac5-ac3e-4a67-a434-098619c50321",
   "metadata": {},
   "outputs": [],
   "source": [
    "# Rename df_merged to ords_prods_cust_merge for consistency with project naming conventions\n",
    "ords_prods_cust_merge = df_merged"
   ]
  },
  {
   "cell_type": "code",
   "execution_count": null,
   "id": "340a6227-2c8d-4f48-a0f4-d44024286cec",
   "metadata": {},
   "outputs": [],
   "source": []
  }
 ],
 "metadata": {
  "kernelspec": {
   "display_name": "Python 3 (ipykernel)",
   "language": "python",
   "name": "python3"
  },
  "language_info": {
   "codemirror_mode": {
    "name": "ipython",
    "version": 3
   },
   "file_extension": ".py",
   "mimetype": "text/x-python",
   "name": "python",
   "nbconvert_exporter": "python",
   "pygments_lexer": "ipython3",
   "version": "3.12.4"
  }
 },
 "nbformat": 4,
 "nbformat_minor": 5
}
