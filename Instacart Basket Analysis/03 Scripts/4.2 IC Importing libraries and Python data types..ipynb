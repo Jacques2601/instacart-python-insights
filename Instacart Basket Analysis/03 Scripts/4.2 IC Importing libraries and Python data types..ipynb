{
 "cells": [
  {
   "cell_type": "markdown",
   "id": "d4823e39-0a59-4314-ac23-1c811bb10e09",
   "metadata": {},
   "source": [
    "# 01. Importing libraries\n"
   ]
  },
  {
   "cell_type": "code",
   "execution_count": 2,
   "id": "b1925670-9980-4f1f-ad4b-bb2e48284701",
   "metadata": {},
   "outputs": [],
   "source": [
    "# Importing the necessary libraries for data analysis\n",
    "import pandas as pd\n",
    "import numpy as np\n",
    "import os"
   ]
  },
  {
   "cell_type": "markdown",
   "id": "b75d4c1c-4fe6-4ce0-99ea-93b8ef7da6cc",
   "metadata": {},
   "source": [
    "# 02. Working with Python data types\n"
   ]
  },
  {
   "cell_type": "code",
   "execution_count": 5,
   "id": "d6a0cffe-9456-41f7-bf1e-970955fad0cb",
   "metadata": {},
   "outputs": [
    {
     "name": "stdout",
     "output_type": "stream",
     "text": [
      "100\n",
      "100\n",
      "100\n"
     ]
    }
   ],
   "source": [
    "# Method 1: Simple addition\n",
    "a = 70\n",
    "b = 30\n",
    "result1 = a + b\n",
    "print(result1)  # Output: 100\n",
    "\n",
    "# Method 2: Subtraction\n",
    "c = 150\n",
    "d = 50\n",
    "result2 = c - d\n",
    "print(result2)  # Output: 100\n",
    "\n",
    "# Method 3: Mix of addition and subtraction\n",
    "e = 60\n",
    "f = 80\n",
    "g = 40\n",
    "result3 = e + f - g\n",
    "print(result3)  # Output: 100"
   ]
  },
  {
   "cell_type": "code",
   "execution_count": 7,
   "id": "272ba7d8-0627-4f96-a6b1-38e41f77aa64",
   "metadata": {},
   "outputs": [
    {
     "name": "stdout",
     "output_type": "stream",
     "text": [
      "12.000000000000002\n"
     ]
    }
   ],
   "source": [
    "# Creating two floating-point variables\n",
    "x = 45.6\n",
    "y = 3.8\n",
    "\n",
    "# Dividing x by y\n",
    "result = x / y\n",
    "print(result)  # This will print the result of 45.6 divided by 3.8"
   ]
  },
  {
   "cell_type": "code",
   "execution_count": 9,
   "id": "03145e65-019e-40a1-985f-73f7105fea65",
   "metadata": {},
   "outputs": [
    {
     "name": "stdout",
     "output_type": "stream",
     "text": [
      "cat\n"
     ]
    }
   ],
   "source": [
    "# Creating separate string variables\n",
    "c = 'c'\n",
    "a = 'a'\n",
    "t = 't'\n",
    "\n",
    "# Concatenating the strings to form a word\n",
    "word = c + a + t\n",
    "print(word)  # Output: cat"
   ]
  },
  {
   "cell_type": "code",
   "execution_count": 11,
   "id": "8dce84a1-f0e5-49a9-9976-7ed6122449de",
   "metadata": {},
   "outputs": [
    {
     "name": "stdout",
     "output_type": "stream",
     "text": [
      "Python is awesome.\n",
      "I love coding!\n"
     ]
    }
   ],
   "source": [
    "# Sentence 1\n",
    "part1 = 'Python '\n",
    "part2 = 'is '\n",
    "part3 = 'awesome.'\n",
    "sentence1 = part1 + part2 + part3\n",
    "print(sentence1)  # Output: Python is awesome.\n",
    "\n",
    "# Sentence 2\n",
    "p1 = 'I '\n",
    "p2 = 'love '\n",
    "p3 = 'coding!'\n",
    "sentence2 = p1 + p2 + p3\n",
    "print(sentence2)  # Output: I love coding!"
   ]
  },
  {
   "cell_type": "code",
   "execution_count": null,
   "id": "ad411887-abd3-4187-a2c6-216e9f11f813",
   "metadata": {},
   "outputs": [],
   "source": []
  }
 ],
 "metadata": {
  "kernelspec": {
   "display_name": "Python 3 (ipykernel)",
   "language": "python",
   "name": "python3"
  },
  "language_info": {
   "codemirror_mode": {
    "name": "ipython",
    "version": 3
   },
   "file_extension": ".py",
   "mimetype": "text/x-python",
   "name": "python",
   "nbconvert_exporter": "python",
   "pygments_lexer": "ipython3",
   "version": "3.12.4"
  }
 },
 "nbformat": 4,
 "nbformat_minor": 5
}
